{
 "cells": [
  {
   "metadata": {
    "ExecuteTime": {
     "end_time": "2025-07-12T01:35:07.134325Z",
     "start_time": "2025-07-12T01:35:07.131013Z"
    }
   },
   "cell_type": "code",
   "source": [
    "# Imports\n",
    "import matplotlib.pyplot as plt\n",
    "import numpy as np\n",
    "from scipy.stats import binom"
   ],
   "id": "964529a73bc96ccf",
   "outputs": [],
   "execution_count": 15
  },
  {
   "metadata": {},
   "cell_type": "markdown",
   "source": [
    "# Ejercicio 1\n",
    "\n",
    "Se sabe que los miembros de un sindicato de la industria farmacéutica están divididos 30% a favor y el resto en contra de una iniciativa por eliminar los medicamentos genéricos. Si se entrevista al azar a 40 de ellos"
   ],
   "id": "446727e57bd5dbb3"
  },
  {
   "metadata": {
    "ExecuteTime": {
     "end_time": "2025-07-12T01:35:07.145849Z",
     "start_time": "2025-07-12T01:35:07.143796Z"
    }
   },
   "cell_type": "code",
   "source": [
    "n = 40\n",
    "p = 0.3"
   ],
   "id": "7d39b598397bb981",
   "outputs": [],
   "execution_count": 16
  },
  {
   "metadata": {},
   "cell_type": "markdown",
   "source": "Grafica la distribución del número de miembros que están a favor de la iniciativa",
   "id": "e003f9a9c08eaa75"
  },
  {
   "cell_type": "code",
   "id": "initial_id",
   "metadata": {
    "collapsed": true,
    "ExecuteTime": {
     "end_time": "2025-07-12T01:35:07.206378Z",
     "start_time": "2025-07-12T01:35:07.156817Z"
    }
   },
   "source": [
    "x = np.arange(n+1)\n",
    "y = binom.pmf(x, n, p)\n",
    "\n",
    "plt.bar(x, y)\n",
    "plt.show()"
   ],
   "outputs": [
    {
     "data": {
      "text/plain": [
       "<Figure size 640x480 with 1 Axes>"
      ],
      "image/png": "[encoded data removed]"
     },
     "metadata": {},
     "output_type": "display_data"
    }
   ],
   "execution_count": 17
  },
  {
   "metadata": {},
   "cell_type": "markdown",
   "source": "¿Cuál es la probabilidad de que 8 de ellos estén a favor de la iniciativa?",
   "id": "3d66e5ee7ad26f34"
  },
  {
   "metadata": {
    "ExecuteTime": {
     "end_time": "2025-07-12T01:35:07.217166Z",
     "start_time": "2025-07-12T01:35:07.214886Z"
    }
   },
   "cell_type": "code",
   "source": [
    "prob_8 = binom.pmf(8, n, p)\n",
    "print(prob_8)"
   ],
   "id": "9a0bfaf7907800ea",
   "outputs": [
    {
     "name": "stdout",
     "output_type": "stream",
     "text": [
      "0.055726288096054705\n"
     ]
    }
   ],
   "execution_count": 18
  },
  {
   "metadata": {},
   "cell_type": "markdown",
   "source": "¿Cuál es la probabilidad de que menos de 8 estén a favor de la iniciativa?",
   "id": "78d10669e42d8a7"
  },
  {
   "metadata": {
    "ExecuteTime": {
     "end_time": "2025-07-12T01:35:07.234162Z",
     "start_time": "2025-07-12T01:35:07.231696Z"
    }
   },
   "cell_type": "code",
   "source": [
    "prob_less_8 = binom.cdf(7, n, p)\n",
    "print(prob_less_8)"
   ],
   "id": "b4112eed870b43c2",
   "outputs": [
    {
     "name": "stdout",
     "output_type": "stream",
     "text": [
      "0.05528288715374277\n"
     ]
    }
   ],
   "execution_count": 19
  },
  {
   "metadata": {},
   "cell_type": "markdown",
   "source": "¿Cuál es la probabilidad de que a lo más 8 estén a favor de la iniciativa?",
   "id": "8699fdf5fb163c2c"
  },
  {
   "metadata": {
    "ExecuteTime": {
     "end_time": "2025-07-12T01:35:07.252463Z",
     "start_time": "2025-07-12T01:35:07.250373Z"
    }
   },
   "cell_type": "code",
   "source": [
    "prob_at_most_8 = binom.cdf(8, n, p)\n",
    "print(prob_at_most_8)"
   ],
   "id": "63dc50bc5fab56f",
   "outputs": [
    {
     "name": "stdout",
     "output_type": "stream",
     "text": [
      "0.1110091752497974\n"
     ]
    }
   ],
   "execution_count": 20
  },
  {
   "metadata": {},
   "cell_type": "markdown",
   "source": "¿Cuál es la probabilidad de que ninguno esté a favor de la iniciativa?",
   "id": "e461d97d04920e81"
  },
  {
   "metadata": {
    "ExecuteTime": {
     "end_time": "2025-07-12T01:35:07.288068Z",
     "start_time": "2025-07-12T01:35:07.285739Z"
    }
   },
   "cell_type": "code",
   "source": [
    "prob_none = binom.pmf(0, n, p)\n",
    "print(prob_none)"
   ],
   "id": "606e66d10ac8eb1a",
   "outputs": [
    {
     "name": "stdout",
     "output_type": "stream",
     "text": [
      "6.366805760909024e-07\n"
     ]
    }
   ],
   "execution_count": 21
  },
  {
   "metadata": {},
   "cell_type": "markdown",
   "source": "¿Cuál es la probabilidad de que al menos 25 estén a favor?",
   "id": "b77acb35b64cb4a0"
  },
  {
   "metadata": {
    "ExecuteTime": {
     "end_time": "2025-07-12T01:35:07.328179Z",
     "start_time": "2025-07-12T01:35:07.325489Z"
    }
   },
   "cell_type": "code",
   "source": [
    "prob_at_least_25 = 1 - binom.cdf(24, n, p)\n",
    "print(prob_at_least_25)"
   ],
   "id": "461727bac96ff3cf",
   "outputs": [
    {
     "name": "stdout",
     "output_type": "stream",
     "text": [
      "2.128466712769672e-05\n"
     ]
    }
   ],
   "execution_count": 22
  },
  {
   "metadata": {},
   "cell_type": "markdown",
   "source": "¿Cuál es el valor esperado del número de trabajadores que voten a favor?",
   "id": "91aec87bbb894270"
  },
  {
   "metadata": {
    "ExecuteTime": {
     "end_time": "2025-07-12T01:35:07.356590Z",
     "start_time": "2025-07-12T01:35:07.354222Z"
    }
   },
   "cell_type": "code",
   "source": [
    "prob_expected = n * p\n",
    "print(prob_expected)"
   ],
   "id": "b240d20cda4045a7",
   "outputs": [
    {
     "name": "stdout",
     "output_type": "stream",
     "text": [
      "12.0\n"
     ]
    }
   ],
   "execution_count": 23
  },
  {
   "metadata": {},
   "cell_type": "markdown",
   "source": "¿Cuál es la desviación estándar del número de trabajadores que voten a favor?",
   "id": "a692202090a55723"
  },
  {
   "metadata": {
    "ExecuteTime": {
     "end_time": "2025-07-12T01:35:07.379826Z",
     "start_time": "2025-07-12T01:35:07.377694Z"
    }
   },
   "cell_type": "code",
   "source": [
    "std_dev = np.sqrt(n * p * (1 - p))\n",
    "print(std_dev)"
   ],
   "id": "353581f8ee3279c6",
   "outputs": [
    {
     "name": "stdout",
     "output_type": "stream",
     "text": [
      "2.8982753492378874\n"
     ]
    }
   ],
   "execution_count": 24
  },
  {
   "metadata": {},
   "cell_type": "markdown",
   "source": "Calcula la probabilidad de que el número de trabajadores que voten a favor esté en el intervalo medio de la distribución. Ilustre con un gráfico su respuesta numérica.",
   "id": "e6b89cc462001aae"
  },
  {
   "metadata": {
    "ExecuteTime": {
     "end_time": "2025-07-12T01:35:07.443643Z",
     "start_time": "2025-07-12T01:35:07.402213Z"
    }
   },
   "cell_type": "code",
   "source": [
    "x_interval = np.arange(round(prob_expected - std_dev), round(prob_expected + std_dev) + 1)\n",
    "y_interval = binom.pmf(x_interval, n, p)\n",
    "\n",
    "plt.bar(x_interval, y_interval)\n",
    "plt.show()"
   ],
   "id": "f6785c0b0278ed7c",
   "outputs": [
    {
     "data": {
      "text/plain": [
       "<Figure size 640x480 with 1 Axes>"
      ],
      "image/png": "[encoded data removed]"
     },
     "metadata": {},
     "output_type": "display_data"
    }
   ],
   "execution_count": 25
  },
  {
   "metadata": {},
   "cell_type": "markdown",
   "source": [
    "# Ejercicio 2\n",
    "\n",
    "Se sabe que 3 de cada 5 ciudadanos están a favor de la paridad de género. Un grupo parlamentario del senado se decidirán a presentar una propuesta si de una encuesta de 100 ciudadanos elegidos al azar de toda la República Mexicana, la mayoría absoluta está a favor de la propuesta."
   ],
   "id": "e1563d00e681ee6c"
  },
  {
   "metadata": {
    "ExecuteTime": {
     "end_time": "2025-07-12T01:35:07.459161Z",
     "start_time": "2025-07-12T01:35:07.457427Z"
    }
   },
   "cell_type": "code",
   "source": [
    "n = 100\n",
    "p = 0.6"
   ],
   "id": "c3fed1f14108e55",
   "outputs": [],
   "execution_count": 26
  },
  {
   "metadata": {},
   "cell_type": "markdown",
   "source": "¿Cuál es la probabilidad de que el grupo parlamentario presente la propuesta al Senado?",
   "id": "307dbd4c2ce09abe"
  },
  {
   "metadata": {
    "ExecuteTime": {
     "end_time": "2025-07-12T01:35:07.478823Z",
     "start_time": "2025-07-12T01:35:07.476549Z"
    }
   },
   "cell_type": "code",
   "source": [
    "prob_present_proposal = 1 - binom.cdf(50, n, p)\n",
    "print(prob_present_proposal)"
   ],
   "id": "52c1659e83c36d5a",
   "outputs": [
    {
     "name": "stdout",
     "output_type": "stream",
     "text": [
      "0.972900802242991\n"
     ]
    }
   ],
   "execution_count": 27
  },
  {
   "metadata": {},
   "cell_type": "markdown",
   "source": "Proporcione un intervalo de valores que represente lo que se espera obtener en esa encuesta, ¿cuál es la probabilidad de que las respuestas estén en ese intervalo?",
   "id": "1b94f60744a124ba"
  },
  {
   "metadata": {
    "ExecuteTime": {
     "end_time": "2025-07-12T01:39:50.098221Z",
     "start_time": "2025-07-12T01:39:50.090628Z"
    }
   },
   "cell_type": "code",
   "source": [
    "mean = n * p\n",
    "std_dev = np.sqrt(n * p * (1 - p))\n",
    "delta = int(np.floor(std_dev))        # ⌊σ⌋\n",
    "low, high = int(mean - delta), int(mean + delta)\n",
    "interval = np.arange(low, high + 1)\n",
    "\n",
    "print(low, high)"
   ],
   "id": "88cb48aec1a8b9bb",
   "outputs": [
    {
     "name": "stdout",
     "output_type": "stream",
     "text": [
      "56 64\n"
     ]
    }
   ],
   "execution_count": 31
  },
  {
   "metadata": {
    "ExecuteTime": {
     "end_time": "2025-07-12T01:41:27.310984Z",
     "start_time": "2025-07-12T01:41:27.303315Z"
    }
   },
   "cell_type": "code",
   "source": [
    "# Probabilidad de caer dentro del intervalo\n",
    "prob_interval = binom.cdf(high, n, p) - binom.cdf(low - 1, n, p)\n",
    "print(f\"Probabilidad de obtener entre {low} y {high} respuestas favorables: {prob_interval:.4f}\")"
   ],
   "id": "bf755996842dfadd",
   "outputs": [
    {
     "name": "stdout",
     "output_type": "stream",
     "text": [
      "Probabilidad de obtener entre 56 y 64 respuestas favorables: 0.6416\n"
     ]
    }
   ],
   "execution_count": 32
  },
  {
   "metadata": {},
   "cell_type": "markdown",
   "source": "Ilustre con una gráfica su respuesta numérica",
   "id": "79456aa04ff2cce"
  },
  {
   "metadata": {
    "ExecuteTime": {
     "end_time": "2025-07-12T01:42:12.886726Z",
     "start_time": "2025-07-12T01:42:12.821294Z"
    }
   },
   "cell_type": "code",
   "source": [
    "x = np.arange(n + 1)\n",
    "y = binom.pmf(x, n, p)\n",
    "\n",
    "plt.bar(x, y)\n",
    "plt.show()"
   ],
   "id": "3ff3e997d34fb72",
   "outputs": [
    {
     "data": {
      "text/plain": [
       "<Figure size 640x480 with 1 Axes>"
      ],
      "image/png": "[encoded data removed]"
     },
     "metadata": {},
     "output_type": "display_data"
    }
   ],
   "execution_count": 34
  },
  {
   "metadata": {},
   "cell_type": "markdown",
   "source": [
    "# Ejercicio 3\n",
    "\n",
    "Un jugador desea jugar en un equipo semiprofesional. Él afirma que su porcentaje de enceste en un partido es de 40%, pero el manager del equipo quiere que compruebe que así es y lo somete a una prueba. El jugador debe encestar al menos 8 de 20 tiros en un partido de prueba para que sea contratado. El basquetbolista piensa que esa norma no es justa ¿Crees que esa norma de contratación es justa para el jugador? Si crees que no lo es, propón una que sea más justa basándote en el comportamiento esperado del número de encestes suponiendo que el jugador sí tiene un porcentaje de enceste por partido del 40%. De acuerdo con tu norma propuesta indica cuál es la probabilidad de que el jugador sea contratado e ilustra tu respuesta en un gráfico. PD: Elabora tu propuesta con el supuesto de que en el partido podrá tener oportunidad de hacer 20 lanzamientos. También de que no se le darán más oportunidades, solo será un partido para decidir."
   ],
   "id": "e9feaac5eaecc857"
  },
  {
   "metadata": {
    "ExecuteTime": {
     "end_time": "2025-07-12T01:45:54.136491Z",
     "start_time": "2025-07-12T01:45:54.132911Z"
    }
   },
   "cell_type": "code",
   "source": [
    "n = 20\n",
    "p = 0.4\n",
    "\n",
    "prob_at_least_8 = 1 - binom.cdf(7, n, p)\n",
    "print(prob_at_least_8)"
   ],
   "id": "7198a836a059a5fc",
   "outputs": [
    {
     "name": "stdout",
     "output_type": "stream",
     "text": [
      "0.5841070624424645\n"
     ]
    }
   ],
   "execution_count": 36
  },
  {
   "metadata": {
    "ExecuteTime": {
     "end_time": "2025-07-12T01:47:01.684082Z",
     "start_time": "2025-07-12T01:47:01.679334Z"
    }
   },
   "cell_type": "code",
   "source": [
    "expected_encestes = n * p\n",
    "print(expected_encestes)\n",
    "\n",
    "prop = 6\n",
    "prob_at_least_6 = 1 - binom.cdf(prop - 1, n, p)\n",
    "print(prob_at_least_6)"
   ],
   "id": "809a3660f745497a",
   "outputs": [
    {
     "name": "stdout",
     "output_type": "stream",
     "text": [
      "8.0\n",
      "0.8744010272769626\n"
     ]
    }
   ],
   "execution_count": 39
  }
 ],
 "metadata": {
  "kernelspec": {
   "display_name": "Python 3",
   "language": "python",
   "name": "python3"
  },
  "language_info": {
   "codemirror_mode": {
    "name": "ipython",
    "version": 2
   },
   "file_extension": ".py",
   "mimetype": "text/x-python",
   "name": "python",
   "nbconvert_exporter": "python",
   "pygments_lexer": "ipython2",
   "version": "2.7.6"
  }
 },
 "nbformat": 4,
 "nbformat_minor": 5
}
