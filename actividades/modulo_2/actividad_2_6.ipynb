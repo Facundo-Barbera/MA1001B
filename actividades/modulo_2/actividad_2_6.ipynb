{
 "cells": [
  {
   "metadata": {
    "ExecuteTime": {
     "end_time": "2025-07-22T22:44:38.357782Z",
     "start_time": "2025-07-22T22:44:38.354496Z"
    }
   },
   "cell_type": "code",
   "source": [
    "import pandas as pd\n",
    "import numpy as np\n",
    "import matplotlib.pyplot as plt\n",
    "from scipy import stats"
   ],
   "id": "f5bb4fb92968d6c5",
   "outputs": [],
   "execution_count": 95
  },
  {
   "metadata": {},
   "cell_type": "markdown",
   "source": [
    "# Problema 1\n",
    "\n",
    "Los focos industriales deberán tener una vida media útil aceptable y una variación relativamente\n",
    "pequeña en su duración. Si demasiado focos fallan menos de lo estipulado en la etiqueta como su\n",
    "vida útil, los usuarios se molestan y, generalmente, cambian de marca de focos.\n",
    "La fábrica, entonces, se interesa por evaluar la variabilidad de la duración de sus focos. Una\n",
    "muestra aleatoria de 20 focos producidos por un fabricante que indica que la variación de la\n",
    "duración de sus focos (desviación estándar) es de 150 horas, produjo los siguientes valores de vida\n",
    "útil en horas."
   ],
   "id": "9fad3146d704244a"
  },
  {
   "metadata": {},
   "cell_type": "markdown",
   "source": [
    "| 2100 | 2302 | 1951 | 2067 | 2415 | 1883 | 2101 | 2146 | 2278 | 2019 |\n",
    "|------|------|------|------|------|------|------|------|------|------|\n",
    "| 1924 | 2183 | 2077 | 2392 | 2286 | 2501 | 1946 | 2161 | 2253 | 1827 |"
   ],
   "id": "ac20c16d43ec340f"
  },
  {
   "metadata": {
    "ExecuteTime": {
     "end_time": "2025-07-22T22:44:38.369119Z",
     "start_time": "2025-07-22T22:44:38.366278Z"
    }
   },
   "cell_type": "code",
   "source": [
    "data_1 = [2100, 2302, 1951, 2067, 2415, 1883, 2101, 2146, 2278, 2019]\n",
    "data_2 = [1924, 2183, 2077, 2392, 2286, 2501, 1946, 2161, 2253, 1827]\n",
    "\n",
    "focos = np.array(data_1 + data_2)"
   ],
   "id": "78e65cf687889fdf",
   "outputs": [],
   "execution_count": 96
  },
  {
   "metadata": {},
   "cell_type": "markdown",
   "source": [
    "a) Revisa el supuesto de Normalidad ya que es requerido para usar el estadístico Chi-cuadrada\n",
    "para el intervalo de varianza, ¿Qué se puede decir de la normalidad, es posible inferir que la\n",
    "distribución de la variable sigue una distribución Normal?"
   ],
   "id": "26f4e23df5bb2ea8"
  },
  {
   "metadata": {
    "ExecuteTime": {
     "end_time": "2025-07-22T22:44:38.385112Z",
     "start_time": "2025-07-22T22:44:38.381501Z"
    }
   },
   "cell_type": "code",
   "source": [
    "shapiro_test = stats.shapiro(focos)\n",
    "print(shapiro_test.pvalue)"
   ],
   "id": "437d8cc6b89dbb26",
   "outputs": [
    {
     "name": "stdout",
     "output_type": "stream",
     "text": [
      "0.905120077302235\n"
     ]
    }
   ],
   "execution_count": 97
  },
  {
   "metadata": {
    "ExecuteTime": {
     "end_time": "2025-07-22T22:44:38.415309Z",
     "start_time": "2025-07-22T22:44:38.412523Z"
    }
   },
   "cell_type": "code",
   "source": [
    "alfa = 0.05\n",
    "if shapiro_test.pvalue > alfa:\n",
    "    print(\"No se tiene evidencia para rechazar Ho, lo más probable es que la variable sigue distribución Normal\")\n",
    "else:\n",
    "    print(\"Se tiene evidencia para rechazar Ho, lo más probable es que la variable no sigue distribución Normal\")"
   ],
   "id": "7f976ed2485fd6ef",
   "outputs": [
    {
     "name": "stdout",
     "output_type": "stream",
     "text": [
      "No se tiene evidencia para rechazar Ho, lo más probable es que la variable sigue distribución Normal\n"
     ]
    }
   ],
   "execution_count": 98
  },
  {
   "metadata": {},
   "cell_type": "markdown",
   "source": "b) Estima el intervalo de confianza para la varianza poblacional",
   "id": "ce8517c37d12798e"
  },
  {
   "metadata": {
    "ExecuteTime": {
     "end_time": "2025-07-22T22:44:38.453626Z",
     "start_time": "2025-07-22T22:44:38.449919Z"
    }
   },
   "cell_type": "code",
   "source": [
    "confianza = 0.90\n",
    "alfa = 1 - confianza\n",
    "\n",
    "focos = np.array(data_1 + data_2)\n",
    "n = len(focos)\n",
    "\n",
    "varianza_muestral = np.var(focos, ddof=1)\n",
    "\n",
    "valor_critico_chi1 = stats.chi2.ppf(alfa / 2, n - 1)\n",
    "valor_critico_chi2 = stats.chi2.ppf(1 - alfa / 2, n - 1)\n",
    "\n",
    "LI = (n - 1) * varianza_muestral / valor_critico_chi2\n",
    "LS = (n - 1) * varianza_muestral / valor_critico_chi1\n",
    "\n",
    "print(LS, LI)"
   ],
   "id": "de93057692f185b8",
   "outputs": [
    {
     "name": "stdout",
     "output_type": "stream",
     "text": [
      "65457.343567706834 21969.320162238942\n"
     ]
    }
   ],
   "execution_count": 99
  },
  {
   "metadata": {
    "ExecuteTime": {
     "end_time": "2025-07-22T22:44:38.516644Z",
     "start_time": "2025-07-22T22:44:38.475475Z"
    }
   },
   "cell_type": "code",
   "source": [
    "plt.figure(figsize=(8, 2))\n",
    "plt.hlines(y=1, xmin=LI, xmax=LS, color='red', linewidth=1, label=\"IC para varianza 90%\")\n",
    "plt.title(\"Gráfico del Intervalo de Confianza para varianza (90%)\")\n",
    "plt.yticks([])\n",
    "plt.xlabel(\"Valor\")\n",
    "plt.legend()\n",
    "plt.grid(True)\n",
    "plt.tight_layout()\n",
    "plt.show()"
   ],
   "id": "eace65cf83422092",
   "outputs": [
    {
     "data": {
      "text/plain": [
       "<Figure size 800x200 with 1 Axes>"
      ],
      "image/png": "[encoded data removed]"
     },
     "metadata": {},
     "output_type": "display_data"
    }
   ],
   "execution_count": 100
  },
  {
   "metadata": {},
   "cell_type": "markdown",
   "source": [
    "c) En base al resultado del intervalo de confianza, ¿Es posible que la varianza poblacional sea lo\n",
    "que dice el fabricante en las etiquetas de los focos? Argumente con un intervalo con el 90% de\n",
    "confianza para la varianza de la duración de la vida útil de los focos producidos por este\n",
    "fabricante."
   ],
   "id": "ff126b0f553e00de"
  },
  {
   "metadata": {},
   "cell_type": "markdown",
   "source": "",
   "id": "7b3343d6a7f2a967"
  },
  {
   "metadata": {},
   "cell_type": "markdown",
   "source": [
    "# Problema 2\n",
    "\n",
    "Se han estado analizando dos nuevos aditivos de pintura con el fin de verificar si alguno de ellos tiene\n",
    "significativamente menos variación que el otro en el tiempo de secado de la pintura.\n",
    "Se pintaron 12 piezas de cada tipo de pintura y me midió el tiempo de secado:\n",
    "\n",
    "A: 14.57, 15.01, 13.44, 9.92, 13.123, 13.25, 16.77, 10.948, 13.70, 17.61, 11.90, 16.78\n",
    "\n",
    "B: 10.39, 10.43, 11.44, 9.71, 11.04, 11.70, 11.14, 9.85, 13.69, 9.47, 11.2, 11.9"
   ],
   "id": "60f2077a42578a58"
  },
  {
   "metadata": {
    "ExecuteTime": {
     "end_time": "2025-07-22T22:44:38.534400Z",
     "start_time": "2025-07-22T22:44:38.531067Z"
    }
   },
   "cell_type": "code",
   "source": [
    "data_a = [14.57, 15.01, 13.44, 9.92, 13.123, 13.25, 16.77, 10.948, 13.70, 17.61, 11.90, 16.78]\n",
    "data_b = [10.39, 10.43, 11.44, 9.71, 11.04, 11.70, 11.14, 9.85, 13.69, 9.47, 11.2, 11.9]"
   ],
   "id": "f708198a8a951a6d",
   "outputs": [],
   "execution_count": 101
  },
  {
   "metadata": {},
   "cell_type": "markdown",
   "source": [
    "1) Revisa el supuesto de Normalidad, que es requisito para usar el estadístico F en el intervalo de cociente\n",
    "de varianzas. ¿Es posible inferir que la distribución de la variable siga una distribución Normal? ¿Por qué?"
   ],
   "id": "e47516c6787da226"
  },
  {
   "metadata": {
    "ExecuteTime": {
     "end_time": "2025-07-22T22:44:38.551631Z",
     "start_time": "2025-07-22T22:44:38.548937Z"
    }
   },
   "cell_type": "code",
   "source": [
    "shapiro_a = stats.shapiro(data_a)\n",
    "shapiro_b = stats.shapiro(data_b)\n",
    "\n",
    "print(f\"Shapiro A: {shapiro_a.pvalue}\")\n",
    "print(f\"Shapiro B: {shapiro_b.pvalue}\")"
   ],
   "id": "4bdc9ba0b825c011",
   "outputs": [
    {
     "name": "stdout",
     "output_type": "stream",
     "text": [
      "Shapiro A: 0.8469860661454653\n",
      "Shapiro B: 0.3882341593493652\n"
     ]
    }
   ],
   "execution_count": 102
  },
  {
   "metadata": {},
   "cell_type": "markdown",
   "source": [
    "2) Calcula el intervalo de confianza al 95% e interpreta en el contexto del problema. Ilustra tu respuesta con\n",
    "un gráfico del intervalo."
   ],
   "id": "e6c179485f114109"
  },
  {
   "metadata": {
    "ExecuteTime": {
     "end_time": "2025-07-22T22:44:38.588086Z",
     "start_time": "2025-07-22T22:44:38.584768Z"
    }
   },
   "cell_type": "code",
   "source": [
    "n_a = len(data_a)\n",
    "n_b = len(data_b)\n",
    "\n",
    "varianza_a = np.var(data_a, ddof=1)\n",
    "varianza_b = np.var(data_b, ddof=1)\n",
    "\n",
    "confianza = 0.95\n",
    "alfa = 1 - confianza\n",
    "df1 = n_a - 1\n",
    "df2 = n_b - 1\n",
    "\n",
    "valor_critico_f1 = stats.f.ppf(alfa / 2, df1, df2)\n",
    "valor_critico_f2 = stats.f.ppf(1 - alfa / 2, df1, df2)\n",
    "\n",
    "LI = (varianza_a / varianza_b) * valor_critico_f1\n",
    "LS = (varianza_a / varianza_b) * valor_critico_f2\n",
    "\n",
    "print(LI, LS)"
   ],
   "id": "1eeffe39be0bd46b",
   "outputs": [
    {
     "name": "stdout",
     "output_type": "stream",
     "text": [
      "1.2009390993990132 14.49123383983055\n"
     ]
    }
   ],
   "execution_count": 103
  },
  {
   "metadata": {},
   "cell_type": "markdown",
   "source": "3. Concluye en el contexto del problema.",
   "id": "b1ecf83938143dda"
  },
  {
   "metadata": {},
   "cell_type": "markdown",
   "source": "",
   "id": "49925573f4b23683"
  },
  {
   "metadata": {},
   "cell_type": "markdown",
   "source": [
    "# Problema 3\n",
    "\n",
    "El gerente de una compañía de baterías para automóvil afirma que sus productos durarán en promedio\n",
    "3 años con una varianza de un año. Suponga que se toma una muestra de 5 baterías con duraciones\n",
    "de 1.9, 2.4, 3, 3.5 y 4.2 años. Suponga que la distribución de las duraciones de la batería es\n",
    "aproximadamente normal. Construya un intervalo del 95% de confianza para 𝜎2 y con base en esto,\n",
    "determine si los datos proporcionan evidencia de que la afirmación acerca de la varianza poblacional\n",
    "podría no ser válida."
   ],
   "id": "61cd209f366a9e93"
  },
  {
   "metadata": {
    "ExecuteTime": {
     "end_time": "2025-07-22T22:44:38.613067Z",
     "start_time": "2025-07-22T22:44:38.611004Z"
    }
   },
   "cell_type": "code",
   "source": "data = [1.9, 2.4, 3, 3.5, 4.2]",
   "id": "2286e57d42be67f0",
   "outputs": [],
   "execution_count": 104
  },
  {
   "metadata": {
    "ExecuteTime": {
     "end_time": "2025-07-22T22:44:38.637622Z",
     "start_time": "2025-07-22T22:44:38.633849Z"
    }
   },
   "cell_type": "code",
   "source": [
    "confianza = 0.95\n",
    "alfa = 1 - confianza\n",
    "n = len(data)\n",
    "\n",
    "varianza_muestral = np.var(data, ddof=1)\n",
    "\n",
    "valor_critico_chi1 = stats.chi2.ppf(alfa / 2, n - 1)\n",
    "valor_critico_chi2 = stats.chi2.ppf(1 - alfa / 2, n - 1)\n",
    "\n",
    "LI = (n - 1) * varianza_muestral / valor_critico_chi2\n",
    "LS = (n - 1) * varianza_muestral / valor_critico_chi1\n",
    "\n",
    "print(LI, LS)"
   ],
   "id": "a96b71c0d5d258ce",
   "outputs": [
    {
     "name": "stdout",
     "output_type": "stream",
     "text": [
      "0.2925528225031148 6.729717415446278\n"
     ]
    }
   ],
   "execution_count": 105
  },
  {
   "metadata": {},
   "cell_type": "markdown",
   "source": [
    "# Problema 4\n",
    "\n",
    "La empresa Elimar S.A. de C. V. fabrica propulsores a través de dos métodos. Un inspector está\n",
    "interesado en evaluarlos para saber si mantienen la misma calidad respecto a las variaciones del ancho\n",
    "de las hélices. Para ello obtiene experimentalmente los siguientes datos:\n",
    "• Proceso 1: s1 = 5.1 mm con n1 = 12\n",
    "• Proceso 2: s2 = 4.7 mm con n2 = 16\n",
    "Suponiendo normalidad, ayúdelo a calcular el intervalo del cociente de varianzas y a decidir si es\n",
    "posible inferir que los dos métodos mantienen la misma calidad (variaciones). Trabaje al nivel de\n",
    "confianza del 95%"
   ],
   "id": "f93b04116d5768d2"
  },
  {
   "metadata": {
    "ExecuteTime": {
     "end_time": "2025-07-22T22:48:00.020520Z",
     "start_time": "2025-07-22T22:48:00.017993Z"
    }
   },
   "cell_type": "code",
   "source": "",
   "id": "7f7ceb834702bab0",
   "outputs": [],
   "execution_count": 114
  },
  {
   "metadata": {
    "ExecuteTime": {
     "end_time": "2025-07-22T22:49:48.136292Z",
     "start_time": "2025-07-22T22:49:48.131187Z"
    }
   },
   "cell_type": "code",
   "source": [
    "s1 = 5.1 ** 2\n",
    "s2 = 4.7 ** 2\n",
    "\n",
    "n1 = 12\n",
    "n2 = 16\n",
    "\n",
    "confianza = 0.95\n",
    "alfa = 1 - confianza\n",
    "df1 = n1 - 1\n",
    "df2 = n2 - 1\n",
    "\n",
    "valor_critico_f1 = stats.f.ppf(alfa / 2, df1, df2)\n",
    "valor_critico_f2 = stats.f.ppf(1 - alfa / 2, df1, df2)\n",
    "\n",
    "LI = (s1 / s2) / valor_critico_f2\n",
    "LS = (s1 / s2) / valor_critico_f1\n",
    "\n",
    "print(LI, LS)"
   ],
   "id": "d3b4aedb6972dd72",
   "outputs": [
    {
     "name": "stdout",
     "output_type": "stream",
     "text": [
      "0.39146386456282883 3.9208512780213685\n"
     ]
    }
   ],
   "execution_count": 119
  },
  {
   "metadata": {},
   "cell_type": "markdown",
   "source": "# Problema 5",
   "id": "5edb250651fb417"
  },
  {
   "metadata": {},
   "cell_type": "markdown",
   "source": [
    "Los datos corresponden a dos muestras aleatorias: 1) la primera fue extraída de los usuarios que\n",
    "tienen como actividad principal hacer llamadas en\n",
    "el celular (X) y 2) la segunda proviene de la población que usa el celular para tener acceso a internet\n",
    "(Y). Los datos corresponden a la duración de la batería en horas."
   ],
   "id": "ea5dc7e7879f52e8"
  },
  {
   "metadata": {
    "ExecuteTime": {
     "end_time": "2025-07-22T22:44:38.707800Z",
     "start_time": "2025-07-22T22:44:38.705206Z"
    }
   },
   "cell_type": "code",
   "source": [
    "# Datos\n",
    "x = [35.8, 22.2, 4, 32.6, 8.5, 42.5, 8, 3.8, 30, 12.8, 10.3, 35.5]\n",
    "y = [14, 12.5, 16.4, 1.9, 9.9, 5.4, 1, 15.2, 4, 4.7]"
   ],
   "id": "b7159eae527dc302",
   "outputs": [],
   "execution_count": 108
  },
  {
   "metadata": {},
   "cell_type": "markdown",
   "source": [
    "a) ¿Se podría inferir que la duración de la batería en horas sigue una distribución Normal en cada una\n",
    "de las poblaciones? (realiza la prueba de normalidad en R e interpreta los resultados)"
   ],
   "id": "cb48a2049720e033"
  },
  {
   "metadata": {
    "ExecuteTime": {
     "end_time": "2025-07-22T22:44:38.726973Z",
     "start_time": "2025-07-22T22:44:38.722909Z"
    }
   },
   "cell_type": "code",
   "source": [
    "shapiro_x = stats.shapiro(x)\n",
    "print(f\"Shapiro X: {shapiro_x.pvalue}\")\n",
    "\n",
    "shapiro_y = stats.shapiro(y)\n",
    "print(f\"Shapiro Y: {shapiro_y.pvalue}\")"
   ],
   "id": "27e857b348141137",
   "outputs": [
    {
     "name": "stdout",
     "output_type": "stream",
     "text": [
      "Shapiro X: 0.10753509102081493\n",
      "Shapiro Y: 0.2661408954879368\n"
     ]
    }
   ],
   "execution_count": 109
  },
  {
   "metadata": {},
   "cell_type": "markdown",
   "source": [
    "b) Calcula un Intervalo de confianza del 99% para estimar el cociente de las varianzas poblacionales\n",
    "de la duración de la batería (usa la función var.test)"
   ],
   "id": "5dae849759b2affb"
  },
  {
   "metadata": {
    "ExecuteTime": {
     "end_time": "2025-07-22T22:44:38.751400Z",
     "start_time": "2025-07-22T22:44:38.748587Z"
    }
   },
   "cell_type": "code",
   "source": [
    "confianza = 0.99\n",
    "alfa = 1 - confianza\n",
    "n_x = len(x)\n",
    "n_y = len(y)\n",
    "\n",
    "varianza_x = np.var(x, ddof=1)\n",
    "varianza_y = np.var(y, ddof=1)\n",
    "\n",
    "valor_critico_f1 = stats.f.ppf(alfa / 2, n_x - 1, n_y - 1)\n",
    "valor_critico_f2 = stats.f.ppf(1 - alfa / 2, n_x - 1, n_y - 1)\n",
    "\n",
    "LI = (varianza_x / varianza_y) * valor_critico_f1\n",
    "LS = (varianza_x / varianza_y) * valor_critico_f2\n",
    "\n",
    "print(LI, LS)"
   ],
   "id": "19c4e29c68395cf9",
   "outputs": [
    {
     "name": "stdout",
     "output_type": "stream",
     "text": [
      "1.083732284466042 37.88796628411866\n"
     ]
    }
   ],
   "execution_count": 110
  },
  {
   "metadata": {},
   "cell_type": "markdown",
   "source": [
    "c) ¿Se pudiera inferir que las varianzas poblacionales son iguales en base a los resultados del\n",
    "intervalo? Explica la respuesta"
   ],
   "id": "ce9d65f67980c44f"
  }
 ],
 "metadata": {
  "kernelspec": {
   "display_name": "Python 3",
   "language": "python",
   "name": "python3"
  },
  "language_info": {
   "codemirror_mode": {
    "name": "ipython",
    "version": 2
   },
   "file_extension": ".py",
   "mimetype": "text/x-python",
   "name": "python",
   "nbconvert_exporter": "python",
   "pygments_lexer": "ipython2",
   "version": "2.7.6"
  }
 },
 "nbformat": 4,
 "nbformat_minor": 5
}
