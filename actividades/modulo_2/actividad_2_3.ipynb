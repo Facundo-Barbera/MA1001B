{
 "cells": [
  {
   "metadata": {},
   "cell_type": "code",
   "outputs": [],
   "execution_count": null,
   "source": [
    "# Imports\n",
    "import numpy as np\n",
    "from scipy.stats import norm"
   ],
   "id": "2c957c3151676ec5"
  },
  {
   "metadata": {},
   "cell_type": "markdown",
   "source": [
    "# Ejercicio 1: La porosidad del Helio\n",
    "\n",
    "Si la porosidad al Helio (en porcentaje) de muestras de carbón, tomadas de cualquier veta en particular, está normalmente distribuida con una desviación estándar verdadera de 0.75. Se toma una muestra al azar de 20 especímenes y su promedio resulta de 4.85. Calcule un intervalo de confianza al 95% para estimar el promedio poblacional de porosidad."
   ],
   "id": "23879ab30fe410a5"
  },
  {
   "metadata": {},
   "cell_type": "code",
   "outputs": [],
   "execution_count": null,
   "source": [
    "# Datos\n",
    "mu = 4.85\n",
    "sigma = 0.75\n",
    "n = 20\n",
    "alpha = 0.05"
   ],
   "id": "ba276ad80c8b45a6"
  },
  {
   "metadata": {},
   "cell_type": "markdown",
   "source": "a) Muestra los límites del intervalo de confianza y el proceso seguido para estimar esos límites",
   "id": "580a5af41269919d"
  },
  {
   "metadata": {},
   "cell_type": "code",
   "outputs": [],
   "execution_count": null,
   "source": [
    "error_estandar = sigma / np.sqrt(n)\n",
    "\n",
    "z_critico = norm.ppf(1 - alpha / 2)\n",
    "\n",
    "limite_inferior = mu - z_critico * error_estandar\n",
    "limite_superior = mu + z_critico * error_estandar\n",
    "\n",
    "print(limite_inferior)\n",
    "print(limite_superior)"
   ],
   "id": "ce7bbe9e8bc25eae"
  },
  {
   "metadata": {},
   "cell_type": "markdown",
   "source": "b) Interpreta el resultado con palabras del resultado obtenido anteriormente",
   "id": "f9bc3511a0369897"
  },
  {
   "metadata": {},
   "cell_type": "markdown",
   "source": "El intervalo de confianza de 95% es valido para estimar el promedio poblacional de la porosidad en el rango de 4.58 a 5.12. Eso significa si se repite una y otra vez el experimento, el 95% de las veces el promedio poblacional va a estar dentro de este intervalo.",
   "id": "87d13fb96bce86b5"
  },
  {
   "metadata": {},
   "cell_type": "markdown",
   "source": "c) Fundamenta en base al resultado obtenido del intervalo sí Estudios anteriores se creía que el promedio poblacional era de 5.8, ¿hay evidencia que sugiera que es probable que ya cambió?",
   "id": "9b0b05c9d67f88f"
  },
  {
   "metadata": {},
   "cell_type": "markdown",
   "source": "Sí, parece ser que el promedio poblacional cambio, ya que el valor esta fuera del intervalo de confianza (5.8 > 5.12).",
   "id": "a658e7fe9e69590f"
  },
  {
   "metadata": {},
   "cell_type": "markdown",
   "source": [
    "# Ejercicio 2: Las tarjetas de circuitos\n",
    "\n",
    "Se seleccionó una muestra de 25 piezas de material laminado utilizado en la fabricación de tarjetas de circuitos y se determinó que la cantidad de deformación promedio de la muestra en 0.0635. Si se sabe que la población se distribuye Normal con una desviación estándar de 0.0065. Calcula el intervalo de confianza para estimar la deformación promedio poblacional a un nivel de confianza del 95%."
   ],
   "id": "327c1bb65676dd78"
  },
  {
   "metadata": {},
   "cell_type": "code",
   "outputs": [],
   "execution_count": null,
   "source": [
    "# Datos\n",
    "mu = 0.0635\n",
    "sigma = 0.0065\n",
    "n = 25\n",
    "alpha = 0.05"
   ],
   "id": "636a08f934d7d013"
  },
  {
   "metadata": {},
   "cell_type": "markdown",
   "source": "a) Muestra los límites del intervalo de confianza y el proceso seguido para estimar esos límites",
   "id": "ce0552cb1b41c498"
  },
  {
   "metadata": {},
   "cell_type": "code",
   "outputs": [],
   "execution_count": null,
   "source": [
    "error_estandar = sigma / np.sqrt(n)\n",
    "\n",
    "z_critico = norm.ppf(1 - alpha / 2)\n",
    "\n",
    "limite_inferior = mu - z_critico * error_estandar\n",
    "limite_superior = mu + z_critico * error_estandar\n",
    "\n",
    "print(limite_inferior)\n",
    "print(limite_superior)"
   ],
   "id": "3736983f1d800f32"
  },
  {
   "metadata": {},
   "cell_type": "markdown",
   "source": "b) Interpreta el resultado con palabras del resultado obtenido anteriormente",
   "id": "85106b356218f647"
  },
  {
   "metadata": {},
   "cell_type": "markdown",
   "source": "El intervalo de confianza del 95% es valido para estimar el promedio población en el rango 0.0619 a 0.0651. Eso significa si se repite una y otra vez el experimento, el 95% de las veces el promedio poblacional va a estar dentro de este intervalo.",
   "id": "11f940ae585c1f0a"
  },
  {
   "metadata": {},
   "cell_type": "markdown",
   "source": "c) Fundamenta en base al resultado obtenido del intervalo sí Estudios anteriores se creía que el promedio poblacional de la deformación era de 0.065, ¿hay evidencia que sugiera que es probable que ya cambió?",
   "id": "65855f0c00b8e22"
  },
  {
   "metadata": {},
   "cell_type": "markdown",
   "source": "No, parece no haber mucho cambio, ya que si esta dentro del intervalo de confiaza (0.065 > 0.060 y 0.065 < 0.066).",
   "id": "829ce71a6dff5f9a"
  },
  {
   "metadata": {},
   "cell_type": "markdown",
   "source": [
    "# Ejercicio 3: ¿Buenos tiempos?\n",
    "\n",
    "Una empresa encuestadora GR recientemente aplicó una encuesta a 1017 mexicanos adultos. A la pregunta, “¿En la actualidad México pasa por un periodo de buenos o malos tiempos?” 550 de los encuestados respondieron “buenos tiempos”."
   ],
   "id": "532caffc32f5fdcd"
  }
 ],
 "metadata": {},
 "nbformat": 4,
 "nbformat_minor": 5
}
