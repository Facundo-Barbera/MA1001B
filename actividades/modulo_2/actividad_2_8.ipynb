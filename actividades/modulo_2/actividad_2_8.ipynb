{
 "cells": [
  {
   "metadata": {},
   "cell_type": "markdown",
   "source": [
    "# Problema 1\n",
    "\n",
    "La ciencia de la Estadística es un campo en el que se trabaja combinando habilidades en Estadísticas\n",
    "y cuantitativas avanzadas con capacidad de programación en el mundo real. Hay muchos lenguajes\n",
    "de programación en los que las personas dedicadas a la Ciencia de la Estadística se pueden apoyar,\n",
    "entre ellos R. Se realizó una encuesta entre dos grupos de profesionistas de ciencia de datos para ver\n",
    "si preferían más el lenguaje R a otros lenguajes. En el primer grupo de 35 hombres investigadores se\n",
    "encontró que 27 lo preferían más, mientras que en el otro grupo 26 de 40 mujeres investigadoras lo\n",
    "prefirieron por sobre otros lenguajes. A un nivel de significación de 0.05, se puede decir que la\n",
    "proporción de hombres es mayor que la de las mujeres que prefieren R?"
   ],
   "id": "63bb2f1c6b8d6d7c"
  },
  {
   "cell_type": "code",
   "id": "initial_id",
   "metadata": {
    "collapsed": true,
    "ExecuteTime": {
     "end_time": "2025-07-23T22:21:38.343358Z",
     "start_time": "2025-07-23T22:21:38.339482Z"
    }
   },
   "source": [
    "n1 = 35\n",
    "n2 = 40\n",
    "\n",
    "x1 = 27\n",
    "x2 = 26\n",
    "\n",
    "p_hat_1 = x1/n1\n",
    "p_hat_2 = x2/n2\n",
    "print(p_hat_1, p_hat_2)"
   ],
   "outputs": [
    {
     "name": "stdout",
     "output_type": "stream",
     "text": [
      "0.7714285714285715 0.65\n"
     ]
    }
   ],
   "execution_count": 1
  },
  {
   "metadata": {},
   "cell_type": "code",
   "outputs": [],
   "execution_count": null,
   "source": "",
   "id": "1665f5ce748821a2"
  },
  {
   "metadata": {},
   "cell_type": "markdown",
   "source": [
    "# Problema 2\n",
    "\n",
    "El gerente de una compañía de taxis está tratando de decidir si el uso de llantas radiales en lugar de\n",
    "llantas regulares mejora la economía en el combustible. Doce carros se equiparon con llantas radiales\n",
    "y fueron probados en un recorrido de prueba preestablecido. Sin cambiar a los choferes, los mismos\n",
    "carros fueron equipados con llantas regulares y fueron probados de igual forma. Se registraron los\n",
    "datos sobre el rendimiento de gasolina en kilómetros por litro:\n",
    "\n",
    "Llantas tipo 1, radiales: 8.4,9.4,13.2,14,13.4,9,11.4,12,14.8,9.8,12.2,10.4\n",
    "\n",
    "Llantas tipo 2, regulares: 8.2,9.8,12.4,13.8,13.6,8.8,11.4,11.6,13.8,9.4,12,9.8\n",
    "\n",
    "¿Podemos concluir que los vehículos con llantas radiales rinden más kilómetros por litro que los que\n",
    "tienen llantas regulares? Asuma que las poblaciones tienen distribución normal, con varianza\n",
    "desconocida, pero igual. Use 𝛼 = 0.05."
   ],
   "id": "f17b06afe880e05f"
  },
  {
   "metadata": {},
   "cell_type": "markdown",
   "source": [
    "Problema 3\n",
    "\n",
    "Se realizó un estudio psicológico para comparar los tiempos medios de reacción de hombres y\n",
    "mujeres a un estímulo. En el experimento se emplearon muestras aleatorias independientes de 50\n",
    "hombres y 50 mujeres. Los resultados se muestran en la siguiente tabla:\n",
    "\n",
    "|                        | Hombres        | Mujeres        |\n",
    "|------------------------|----------------|----------------|\n",
    "| Tamaño de la muestra   | 50             | 50             |\n",
    "| Media de la muestra    | 3.6 segundos   | 3.8 segundos   |\n",
    "| Varianza de la muestra | 0.18           | 0.14           |\n",
    "\n",
    "¿Presentan los datos evidencia estadística para concluir que hay una diferencia entre los tiempos medios\n",
    "de reacción verdaderos para hombres y mujeres? Use 𝛼 = 0.05.\n"
   ],
   "id": "ad6062647d3e9c53"
  }
 ],
 "metadata": {
  "kernelspec": {
   "display_name": "Python 3",
   "language": "python",
   "name": "python3"
  },
  "language_info": {
   "codemirror_mode": {
    "name": "ipython",
    "version": 2
   },
   "file_extension": ".py",
   "mimetype": "text/x-python",
   "name": "python",
   "nbconvert_exporter": "python",
   "pygments_lexer": "ipython2",
   "version": "2.7.6"
  }
 },
 "nbformat": 4,
 "nbformat_minor": 5
}
