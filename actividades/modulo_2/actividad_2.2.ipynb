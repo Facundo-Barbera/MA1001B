{
 "cells": [
  {
   "cell_type": "code",
   "id": "initial_id",
   "metadata": {
    "collapsed": true,
    "ExecuteTime": {
     "end_time": "2025-07-16T16:26:54.067938Z",
     "start_time": "2025-07-16T16:26:54.066105Z"
    }
   },
   "source": [
    "# Imports\n",
    "import numpy as np\n",
    "from scipy.stats import norm"
   ],
   "outputs": [],
   "execution_count": 38
  },
  {
   "metadata": {},
   "cell_type": "markdown",
   "source": [
    "# Ejercicio 1\n",
    "\n",
    "Una máquina embotelladora puede ser regulada para que se descargue un promedio de μ onzas por botella. Se ha observado que la cantidad de líquido dosificado por una máquina embotelladora está distribuida normalmente con σ = 1 onza. Se selecciona aleatoriamente un número determinado de botellas de la producción de la máquina y se mide la cantidad de líquido para cada una de ellas. Suponiendo un ajuste correcto de la máquina, determine la probabilidad de que la media muestral se encuentre a no más de 0.3 onzas de la verdadera media μ:"
   ],
   "id": "94481f0f18b0068e"
  },
  {
   "metadata": {
    "ExecuteTime": {
     "end_time": "2025-07-16T16:26:54.085216Z",
     "start_time": "2025-07-16T16:26:54.083046Z"
    }
   },
   "cell_type": "code",
   "source": [
    "# Datos\n",
    "mu = 12\n",
    "sigma = 1"
   ],
   "id": "969d4d119f47c768",
   "outputs": [],
   "execution_count": 39
  },
  {
   "metadata": {},
   "cell_type": "markdown",
   "source": "a) si el tamaño de la muestra es de 9 botellas.",
   "id": "f926209d1c14584a"
  },
  {
   "metadata": {
    "ExecuteTime": {
     "end_time": "2025-07-16T16:26:54.107550Z",
     "start_time": "2025-07-16T16:26:54.104499Z"
    }
   },
   "cell_type": "code",
   "source": [
    "n = 9\n",
    "error_maximo = 0.3\n",
    "\n",
    "z = error_maximo / (sigma / np.sqrt(n))\n",
    "probabilidad_a = norm.cdf(z) - norm.cdf(-z)\n",
    "\n",
    "print(probabilidad_a)"
   ],
   "id": "ea38ab80d5bce4d",
   "outputs": [
    {
     "name": "stdout",
     "output_type": "stream",
     "text": [
      "0.6318797493064809\n"
     ]
    }
   ],
   "execution_count": 40
  },
  {
   "metadata": {},
   "cell_type": "markdown",
   "source": "b) si el tamaño de la muestra es de 25 botellas.",
   "id": "ff46b7816ea72fd0"
  },
  {
   "metadata": {
    "ExecuteTime": {
     "end_time": "2025-07-16T16:26:54.145154Z",
     "start_time": "2025-07-16T16:26:54.141472Z"
    }
   },
   "cell_type": "code",
   "source": [
    "n = 25\n",
    "error_maximo = 0.3\n",
    "\n",
    "z = error_maximo / (sigma / np.sqrt(n))\n",
    "probabilidad_b = norm.cdf(z) - norm.cdf(-z)\n",
    "\n",
    "print(probabilidad_b)"
   ],
   "id": "7a5a6e54b44571f6",
   "outputs": [
    {
     "name": "stdout",
     "output_type": "stream",
     "text": [
      "0.8663855974622838\n"
     ]
    }
   ],
   "execution_count": 41
  },
  {
   "metadata": {},
   "cell_type": "markdown",
   "source": "c) si el tamaño de la muestra es de 36 botellas.",
   "id": "bc82ed2f698cce41"
  },
  {
   "metadata": {
    "ExecuteTime": {
     "end_time": "2025-07-16T16:26:54.210417Z",
     "start_time": "2025-07-16T16:26:54.207600Z"
    }
   },
   "cell_type": "code",
   "source": [
    "n = 36\n",
    "error_maximo = 0.3\n",
    "\n",
    "z = error_maximo / (sigma / np.sqrt(n))\n",
    "probabilidad_c = norm.cdf(z) - norm.cdf(-z)\n",
    "\n",
    "print(probabilidad_c)"
   ],
   "id": "3238eebe6bf53951",
   "outputs": [
    {
     "name": "stdout",
     "output_type": "stream",
     "text": [
      "0.9281393617741485\n"
     ]
    }
   ],
   "execution_count": 42
  },
  {
   "metadata": {},
   "cell_type": "markdown",
   "source": "d) ¿Qué patrón observas entre los valores de la probabilidad de que la media muestral se encuentre a no más de 0.3 onzas de la verdadera media μ?",
   "id": "1d7ea6caf9e801d5"
  },
  {
   "metadata": {},
   "cell_type": "markdown",
   "source": "A medida que aumenta el tamaño de la muestra, la probabilidad de que la media muestral se sea no mas de 0.3 de la verdadera media también aumenta.",
   "id": "2ab9710c84bae041"
  },
  {
   "metadata": {},
   "cell_type": "markdown",
   "source": [
    "# Ejercicio 2\n",
    "\n",
    "Suponga que la densidad de un sedimento (g/cm) de un espécimen seleccionado al azar de cierta región está normalmente distribuido con media de 2.65 y desviación estándar de 0.85 (sugerida en \"Modeling sediment and water column interactions for hydrophobic pollutants\", Water Research, 1984: 1169-1174)."
   ],
   "id": "48fb01441614ac04"
  },
  {
   "metadata": {},
   "cell_type": "markdown",
   "source": [
    "Si se selecciona una muestra aleatoria de 25 especímenes, ¿cuál es la probabilidad de que la\n",
    "densidad del sedimento promedio muestral sea cuando mucho de 3.00? ¿De entre 2.65 y 3?"
   ],
   "id": "2cb728656b30e6fe"
  },
  {
   "metadata": {
    "ExecuteTime": {
     "end_time": "2025-07-16T16:26:54.256967Z",
     "start_time": "2025-07-16T16:26:54.254778Z"
    }
   },
   "cell_type": "code",
   "source": [
    "# Datos\n",
    "mu_sedimento = 2.65\n",
    "sigma_sedimento = 0.85\n",
    "n_sedimento = 25"
   ],
   "id": "23da149d260734b5",
   "outputs": [],
   "execution_count": 43
  },
  {
   "metadata": {
    "ExecuteTime": {
     "end_time": "2025-07-16T16:26:54.289880Z",
     "start_time": "2025-07-16T16:26:54.286868Z"
    }
   },
   "cell_type": "code",
   "source": [
    "error_maximo_sedimento = 3.00 - mu_sedimento\n",
    "z_sedimento = error_maximo_sedimento / (sigma_sedimento / np.sqrt(n_sedimento))\n",
    "probabilidad_sedimento_a = norm.cdf(z_sedimento)\n",
    "\n",
    "error_minimo_sedimento = 2.65 - mu_sedimento\n",
    "z_sedimento_minimo = error_minimo_sedimento / (sigma_sedimento / np.sqrt(n_sedimento))\n",
    "z_sedimento_maximo = error_maximo_sedimento / (sigma_sedimento / np.sqrt(n_sedimento))\n",
    "probabilidad_sedimento_b = norm.cdf(z_sedimento_maximo) - norm.cdf(z_sedimento_minimo)\n",
    "\n",
    "print(probabilidad_sedimento_a)\n",
    "print(probabilidad_sedimento_b)"
   ],
   "id": "b8243f6526672cb",
   "outputs": [
    {
     "name": "stdout",
     "output_type": "stream",
     "text": [
      "0.980244426611219\n",
      "0.480244426611219\n"
     ]
    }
   ],
   "execution_count": 44
  },
  {
   "metadata": {},
   "cell_type": "markdown",
   "source": [
    "# Ejercicio 3\n",
    "\n",
    "Una máquina embotelladora puede ser regulada para que se descargue un promedio de μ onzas por botella. Se ha observado que la cantidad de líquido dosificado por una máquina embotelladora está distribuida normalmente con σ = 1 onza. La máquina embotelladora se calibra cuando la media de una muestra tomada al azar está fuera del 95% central de la distribución muestral. La media de la cantidad de líquido deseada requiere que μ sea de 15 onzas."
   ],
   "id": "2d4e96ecfd77ac60"
  },
  {
   "metadata": {
    "ExecuteTime": {
     "end_time": "2025-07-16T16:26:54.333418Z",
     "start_time": "2025-07-16T16:26:54.330748Z"
    }
   },
   "cell_type": "code",
   "source": [
    "# Datos\n",
    "mu = 15\n",
    "sigma = 1"
   ],
   "id": "eeebe7f63f643a67",
   "outputs": [],
   "execution_count": 45
  },
  {
   "metadata": {},
   "cell_type": "markdown",
   "source": "a) ¿A cuántas desviaciones estándar alrededor de la verdadera media μ puede estar la media de una muestra para que esté dentro del estándar establecido del 95% central?",
   "id": "c322f28584f1ea83"
  },
  {
   "metadata": {
    "ExecuteTime": {
     "end_time": "2025-07-16T16:26:54.379904Z",
     "start_time": "2025-07-16T16:26:54.376590Z"
    }
   },
   "cell_type": "code",
   "source": [
    "error_maximo = 1.96 * (sigma / np.sqrt(1))\n",
    "\n",
    "print(error_maximo)"
   ],
   "id": "9e4b2d8452bc3844",
   "outputs": [
    {
     "name": "stdout",
     "output_type": "stream",
     "text": [
      "1.96\n"
     ]
    }
   ],
   "execution_count": 46
  },
  {
   "metadata": {},
   "cell_type": "markdown",
   "source": "b) ¿Cuál es la probabilidad de que en una muestra aleatoria de tamaño 10 botellas se obtenga una media mayor a 16 onzas?",
   "id": "fb248dff8f556c5d"
  },
  {
   "metadata": {
    "ExecuteTime": {
     "end_time": "2025-07-16T16:26:54.428828Z",
     "start_time": "2025-07-16T16:26:54.425290Z"
    }
   },
   "cell_type": "code",
   "source": [
    "n = 10\n",
    "\n",
    "error_maximo_b = 16 - mu\n",
    "z_b = error_maximo_b / (sigma / np.sqrt(n))\n",
    "probabilidad_b = 1 - norm.cdf(z_b)\n",
    "\n",
    "print(probabilidad_b)"
   ],
   "id": "fade16e1445e3a5b",
   "outputs": [
    {
     "name": "stdout",
     "output_type": "stream",
     "text": [
      "0.0007827011290012509\n"
     ]
    }
   ],
   "execution_count": 47
  },
  {
   "metadata": {},
   "cell_type": "markdown",
   "source": "c) ¿Cuál es la probabilidad de que en una muestra aleatoria de tamaño 10 botellas se obtenga una media menor a 14.5 onzas?",
   "id": "db439dc58bb9f6b4"
  },
  {
   "metadata": {
    "ExecuteTime": {
     "end_time": "2025-07-16T16:26:54.506363Z",
     "start_time": "2025-07-16T16:26:54.502666Z"
    }
   },
   "cell_type": "code",
   "source": [
    "error_maximo_c = mu - 14.5\n",
    "\n",
    "z_c = error_maximo_c / (sigma / np.sqrt(n))\n",
    "probabilidad_c = 1 - norm.cdf(z_c)\n",
    "\n",
    "print(probabilidad_c)"
   ],
   "id": "f3672d2c8a689e52",
   "outputs": [
    {
     "name": "stdout",
     "output_type": "stream",
     "text": [
      "0.056923149003329065\n"
     ]
    }
   ],
   "execution_count": 48
  }
 ],
 "metadata": {
  "kernelspec": {
   "display_name": "Python 3",
   "language": "python",
   "name": "python3"
  },
  "language_info": {
   "codemirror_mode": {
    "name": "ipython",
    "version": 2
   },
   "file_extension": ".py",
   "mimetype": "text/x-python",
   "name": "python",
   "nbconvert_exporter": "python",
   "pygments_lexer": "ipython2",
   "version": "2.7.6"
  }
 },
 "nbformat": 4,
 "nbformat_minor": 5
}
