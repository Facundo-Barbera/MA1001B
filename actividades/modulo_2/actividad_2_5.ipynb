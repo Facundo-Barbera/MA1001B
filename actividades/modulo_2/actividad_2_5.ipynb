{
 "cells": [
  {
   "metadata": {},
   "cell_type": "markdown",
   "source": "Actividad 2.5",
   "id": "b671f9a4692977f8"
  },
  {
   "metadata": {
    "ExecuteTime": {
     "end_time": "2025-07-19T00:47:29.753573Z",
     "start_time": "2025-07-19T00:47:29.746406Z"
    }
   },
   "cell_type": "code",
   "source": [
    "import numpy as np\n",
    "from scipy import stats"
   ],
   "id": "fc0342199393060",
   "outputs": [],
   "execution_count": 138
  },
  {
   "metadata": {},
   "cell_type": "markdown",
   "source": [
    "# Problema 1\n",
    "\n",
    "Los siguientes datos corresponden al conteo de bacterias en 22 muestras de 1 cm2 de tejido vivo, y forman parte de una investigación sobre infecciones intestinales."
   ],
   "id": "73cd3c32c8c22cba"
  },
  {
   "cell_type": "code",
   "id": "initial_id",
   "metadata": {
    "collapsed": true,
    "ExecuteTime": {
     "end_time": "2025-07-19T00:47:29.764337Z",
     "start_time": "2025-07-19T00:47:29.762360Z"
    }
   },
   "source": "data = [24,39,18,30,4,19,33,47,8,12,30,20,22,26,16,46,34,12,19,23,25,7]",
   "outputs": [],
   "execution_count": 139
  },
  {
   "metadata": {},
   "cell_type": "markdown",
   "source": "a) Realiza la prueba de Shapiro Wilks para revisar si tenemos evidencia para inferir que la variable sigue distribución Normal y intepreta el resultado",
   "id": "93e0d399c791c0ab"
  },
  {
   "metadata": {
    "ExecuteTime": {
     "end_time": "2025-07-19T00:47:29.773902Z",
     "start_time": "2025-07-19T00:47:29.770876Z"
    }
   },
   "cell_type": "code",
   "source": [
    "stat, p = stats.shapiro(data)\n",
    "print(stat)\n",
    "print(p)"
   ],
   "id": "8f8879cfc1b03b40",
   "outputs": [
    {
     "name": "stdout",
     "output_type": "stream",
     "text": [
      "0.9699287059059221\n",
      "0.7094035909735569\n"
     ]
    }
   ],
   "execution_count": 140
  },
  {
   "metadata": {},
   "cell_type": "markdown",
   "source": "b) Explica por qué es necesario usar en este caso la distribución t-student para estimar el Intervalo de confianza para la media poblacional",
   "id": "1cb98706171a2892"
  },
  {
   "metadata": {},
   "cell_type": "markdown",
   "source": "Se tiene una muestra pequeña y la desviación estándar de la población no está.",
   "id": "93a8600979fd7b1a"
  },
  {
   "metadata": {},
   "cell_type": "markdown",
   "source": "c) Obtenga un intervalo del 99.5% de confianza para el conteo medio de bacterias por cm2 de tejido.",
   "id": "aac704a1dd4781b4"
  },
  {
   "metadata": {
    "ExecuteTime": {
     "end_time": "2025-07-19T00:47:29.787021Z",
     "start_time": "2025-07-19T00:47:29.785041Z"
    }
   },
   "cell_type": "code",
   "source": [
    "mean = np.mean(data)\n",
    "print(mean)"
   ],
   "id": "e52acd16b3b32816",
   "outputs": [
    {
     "name": "stdout",
     "output_type": "stream",
     "text": [
      "23.363636363636363\n"
     ]
    }
   ],
   "execution_count": 141
  },
  {
   "metadata": {
    "ExecuteTime": {
     "end_time": "2025-07-19T00:47:29.801480Z",
     "start_time": "2025-07-19T00:47:29.799302Z"
    }
   },
   "cell_type": "code",
   "source": [
    "std_dev = np.std(data, ddof=1)\n",
    "print(std_dev)"
   ],
   "id": "df51d7b3ed562dd0",
   "outputs": [
    {
     "name": "stdout",
     "output_type": "stream",
     "text": [
      "11.733328414009199\n"
     ]
    }
   ],
   "execution_count": 142
  },
  {
   "metadata": {
    "ExecuteTime": {
     "end_time": "2025-07-19T00:47:29.812750Z",
     "start_time": "2025-07-19T00:47:29.809684Z"
    }
   },
   "cell_type": "code",
   "source": [
    "cl = 0.995\n",
    "n = len(data)\n",
    "alpha = 1 - cl\n",
    "t_critico = stats.t.ppf(1 - alpha / 2, df=n-1)\n",
    "print(t_critico)"
   ],
   "id": "4fe5ab203dc12161",
   "outputs": [
    {
     "name": "stdout",
     "output_type": "stream",
     "text": [
      "3.1352062453679883\n"
     ]
    }
   ],
   "execution_count": 143
  },
  {
   "metadata": {
    "ExecuteTime": {
     "end_time": "2025-07-19T00:47:29.829145Z",
     "start_time": "2025-07-19T00:47:29.826928Z"
    }
   },
   "cell_type": "code",
   "source": [
    "std_error = std_dev / np.sqrt(n)\n",
    "print(std_error)"
   ],
   "id": "5916b6cb4d1d2367",
   "outputs": [
    {
     "name": "stdout",
     "output_type": "stream",
     "text": [
      "2.5015540231023996\n"
     ]
    }
   ],
   "execution_count": 144
  },
  {
   "metadata": {
    "ExecuteTime": {
     "end_time": "2025-07-19T00:47:29.846513Z",
     "start_time": "2025-07-19T00:47:29.844595Z"
    }
   },
   "cell_type": "code",
   "source": [
    "lower_bound = mean - t_critico * std_error\n",
    "upper_bound = mean + t_critico * std_error\n",
    "print(lower_bound)\n",
    "print(upper_bound)"
   ],
   "id": "baec86199744c10e",
   "outputs": [
    {
     "name": "stdout",
     "output_type": "stream",
     "text": [
      "15.520748567280304\n",
      "31.206524159992423\n"
     ]
    }
   ],
   "execution_count": 145
  },
  {
   "metadata": {},
   "cell_type": "markdown",
   "source": "d) Obtenga un intervalo del 95% de confianza para el conteo medio de bacterias por cm2 de tejido.",
   "id": "a96f71f50036c4af"
  },
  {
   "metadata": {
    "ExecuteTime": {
     "end_time": "2025-07-19T00:47:29.861934Z",
     "start_time": "2025-07-19T00:47:29.858451Z"
    }
   },
   "cell_type": "code",
   "source": [
    "cl = 0.95\n",
    "alpha = 1 - cl\n",
    "t_critico = stats.t.ppf(1 - alpha / 2, df=n-1)\n",
    "std_error = std_dev / np.sqrt(n)\n",
    "lower_bound = mean - t_critico * std_error\n",
    "upper_bound = mean + t_critico * std_error\n",
    "\n",
    "print(lower_bound)\n",
    "print(upper_bound)"
   ],
   "id": "94515c7494054273",
   "outputs": [
    {
     "name": "stdout",
     "output_type": "stream",
     "text": [
      "18.16136998385843\n",
      "28.565902743414295\n"
     ]
    }
   ],
   "execution_count": 146
  },
  {
   "metadata": {},
   "cell_type": "markdown",
   "source": "e) Obtenga un intervalo del 89% de confianza para el conteo medio de bacterias por cm2 de tejido.",
   "id": "a4062887df35cd64"
  },
  {
   "metadata": {
    "ExecuteTime": {
     "end_time": "2025-07-19T00:47:29.876915Z",
     "start_time": "2025-07-19T00:47:29.874433Z"
    }
   },
   "cell_type": "code",
   "source": [
    "cl = 0.89\n",
    "alpha = 1 - cl\n",
    "t_critico = stats.t.ppf(1 - alpha / 2, df=n-1)\n",
    "std_error = std_dev / np.sqrt(n)\n",
    "lower_bound = mean - t_critico * std_error\n",
    "upper_bound = mean + t_critico * std_error\n",
    "\n",
    "print(lower_bound)\n",
    "print(upper_bound)"
   ],
   "id": "9ccdb46221b0a6bb",
   "outputs": [
    {
     "name": "stdout",
     "output_type": "stream",
     "text": [
      "19.189052131921436\n",
      "27.53822059535129\n"
     ]
    }
   ],
   "execution_count": 147
  },
  {
   "metadata": {},
   "cell_type": "markdown",
   "source": "f) ¿Qué relación observa entre la longitud del intervalo (diferencia entre LI y LS) y el nivel de confianza del intervalo? ¿por qué ocurre esto?",
   "id": "54962c93bdfdc2ec"
  },
  {
   "metadata": {},
   "cell_type": "markdown",
   "source": "Si hay más confianza, el intervalo es más largo.",
   "id": "b3a0eb4c2d0a76cb"
  },
  {
   "metadata": {},
   "cell_type": "markdown",
   "source": "g) Un estudio asegura que el promedio de bacterias en un tejido vivo es de 19.1, de acuerdo con el estudio realizado con las 22 muestras ¿qué puedes concluir?",
   "id": "3272ecdc0dfb0827"
  },
  {
   "metadata": {},
   "cell_type": "markdown",
   "source": "El promedio de bacterias está dentro del intervalo de confianza del 95% pero fuera del intervalo de 89%.",
   "id": "941cb3d18efb45d1"
  },
  {
   "metadata": {},
   "cell_type": "markdown",
   "source": [
    "# Problema 2\n",
    "\n",
    "Un estudio de la capacidad de las personas para caminar en línea recta reportó los siguientes datos sobre la cadencia (pasos por segundo) de hombres saludables seleccionados al azar:"
   ],
   "id": "168682b429d7980"
  },
  {
   "metadata": {
    "ExecuteTime": {
     "end_time": "2025-07-19T00:47:29.889326Z",
     "start_time": "2025-07-19T00:47:29.887233Z"
    }
   },
   "cell_type": "code",
   "source": "data = [0.95, 0.85, 0.92, 0.95, 0.93, 0.86, 1.00, 0.92, 0.85, 0.81, 0.78, 0.93, 0.93, 1.05, 0.93, 1.06, 1.06, 0.96, 0.81, 0.96]",
   "id": "1093778fd0785b3d",
   "outputs": [],
   "execution_count": 148
  },
  {
   "metadata": {},
   "cell_type": "markdown",
   "source": "a) Obtenga el intervalo del 98.6% de confianza para la cadencia media de la población.",
   "id": "3826018145d03d27"
  },
  {
   "metadata": {
    "ExecuteTime": {
     "end_time": "2025-07-19T00:47:29.902796Z",
     "start_time": "2025-07-19T00:47:29.899778Z"
    }
   },
   "cell_type": "code",
   "source": [
    "cl = 0.986\n",
    "alpha = 1 - cl\n",
    "n = len(data)\n",
    "mean = np.mean(data)\n",
    "std_dev = np.std(data, ddof=1)\n",
    "t_critico = stats.t.ppf(1 - alpha / 2, df=n-1)\n",
    "std_error = std_dev / np.sqrt(n)\n",
    "lower_bound = mean - t_critico * std_error\n",
    "upper_bound = mean + t_critico * std_error\n",
    "print(lower_bound)\n",
    "print(upper_bound)"
   ],
   "id": "c0e0bbcf4e5913a8",
   "outputs": [
    {
     "name": "stdout",
     "output_type": "stream",
     "text": [
      "0.8765167275072543\n",
      "0.9744832724927459\n"
     ]
    }
   ],
   "execution_count": 149
  },
  {
   "metadata": {},
   "cell_type": "markdown",
   "source": "b) Obtenga el intervalo del 91% de confianza para la cadencia media de la población.",
   "id": "d7960973d8604a22"
  },
  {
   "metadata": {
    "ExecuteTime": {
     "end_time": "2025-07-19T00:47:29.924717Z",
     "start_time": "2025-07-19T00:47:29.921423Z"
    }
   },
   "cell_type": "code",
   "source": [
    "cl = 0.91\n",
    "alpha = 1 - cl\n",
    "n = len(data)\n",
    "mean = np.mean(data)\n",
    "std_dev = np.std(data, ddof=1)\n",
    "t_critico = stats.t.ppf(1 - alpha / 2, df=n-1)\n",
    "std_error = std_dev / np.sqrt(n)\n",
    "lower_bound = mean - t_critico * std_error\n",
    "upper_bound = mean + t_critico * std_error\n",
    "print(lower_bound)\n",
    "print(upper_bound)"
   ],
   "id": "9f6084df9f841c3b",
   "outputs": [
    {
     "name": "stdout",
     "output_type": "stream",
     "text": [
      "0.8931654323887632\n",
      "0.957834567611237\n"
     ]
    }
   ],
   "execution_count": 150
  },
  {
   "metadata": {},
   "cell_type": "markdown",
   "source": "c) Obtenga el intervalo del 85% de confianza para la cadencia media de la población.",
   "id": "2d10a5c2202149ec"
  },
  {
   "metadata": {
    "ExecuteTime": {
     "end_time": "2025-07-19T00:47:29.939229Z",
     "start_time": "2025-07-19T00:47:29.936716Z"
    }
   },
   "cell_type": "code",
   "source": [
    "cl = 0.85\n",
    "alpha = 1 - cl\n",
    "n = len(data)\n",
    "mean = np.mean(data)\n",
    "std_dev = np.std(data, ddof=1)\n",
    "t_critico = stats.t.ppf(1 - alpha / 2, df=n-1)\n",
    "std_error = std_dev / np.sqrt(n)\n",
    "lower_bound = mean - t_critico * std_error\n",
    "upper_bound = mean + t_critico * std_error\n",
    "print(lower_bound)\n",
    "print(upper_bound)"
   ],
   "id": "ef6924fc2939c89",
   "outputs": [
    {
     "name": "stdout",
     "output_type": "stream",
     "text": [
      "0.8983462345433377\n",
      "0.9526537654566625\n"
     ]
    }
   ],
   "execution_count": 151
  },
  {
   "metadata": {},
   "cell_type": "markdown",
   "source": "d) ¿Qué relación observa entre el intervalo que se construye y el nivel de confianza del intervalo? ¿por qué ocurre esto?\n",
   "id": "aea2abc1356d3aef"
  },
  {
   "metadata": {},
   "cell_type": "markdown",
   "source": "El intervalo se hace más grande a medida que disminuye el nivel de confianza.",
   "id": "385994b515deedf1"
  },
  {
   "metadata": {},
   "cell_type": "markdown",
   "source": "e) Un estudio asegura que el promedio de la cadencia en hombres sanos es de 0.88, de acuerdo con el estudio reportado en este ejercicio ¿qué puedes concluir?",
   "id": "8a6150fb45548b8d"
  },
  {
   "metadata": {},
   "cell_type": "markdown",
   "source": "El promedio solo entra en el intervalo de confianza del 98.6% pero no en el del 91% ni en el del 85%.",
   "id": "49c5be005e920490"
  },
  {
   "metadata": {},
   "cell_type": "markdown",
   "source": [
    "# Problema 3\n",
    "\n",
    "Se realizó un estudio para comparar la resistencia media a la compresión de dos tipos de concreto. Se recolectaron 10 muestras de cada tipo de concreto. Los datos (en psi) se presentan en la siguiente tabla.\n",
    "\n",
    "| Concreto 1 | Concreto 2 |\n",
    "|------------|------------|\n",
    "| 3250       | 3094       |\n",
    "| 4302       | 3004       |\n",
    "| 3266       | 3066       |\n",
    "| 3064       | 3124       |\n",
    "| 3332       | 3018       |\n",
    "| 3268       | 3106       |\n",
    "| 3184       | 2984       |\n",
    "| 3297       | 3316       |\n",
    "| 3116       | 3380       |\n",
    "| 3502       | 3212       |\n",
    "\n",
    "\n",
    "Suponiendo normalidad, determine un intervalo de confianza del 98% para la diferencia de las medias e interprételo. Se sabe que las desviaciones estándar poblaciones son desconocidas pero iguales."
   ],
   "id": "8fcb79c29a9aa290"
  },
  {
   "metadata": {
    "ExecuteTime": {
     "end_time": "2025-07-19T00:47:29.953281Z",
     "start_time": "2025-07-19T00:47:29.950608Z"
    }
   },
   "cell_type": "code",
   "source": [
    "# Datos de los concretos\n",
    "concreto1 = [3250, 4302, 3266, 3064, 3332, 3268, 3184, 3297, 3116, 3502]\n",
    "concreto2 = [3094, 3004, 3066, 3124, 3018, 3106, 2984, 3316, 3380, 3212]\n",
    "\n",
    "n1 = len(concreto1)\n",
    "n2 = len(concreto2)\n",
    "\n",
    "mean1 = sum(concreto1) / n1\n",
    "mean2 = sum(concreto2) / n2\n",
    "\n",
    "s1 = np.std(concreto1, ddof=1)\n",
    "s2 = np.std(concreto2, ddof=1)\n",
    "\n",
    "print(s1, s2)"
   ],
   "id": "f58af31fa808c2e9",
   "outputs": [
    {
     "name": "stdout",
     "output_type": "stream",
     "text": [
      "352.731074773844 133.14920619782572\n"
     ]
    }
   ],
   "execution_count": 152
  },
  {
   "metadata": {
    "ExecuteTime": {
     "end_time": "2025-07-19T00:47:29.969265Z",
     "start_time": "2025-07-19T00:47:29.966920Z"
    }
   },
   "cell_type": "code",
   "source": [
    "sp = np.sqrt(((n1 - 1) * s1**2 + (n2 - 1) * s2**2) / (n1 + n2 - 2))\n",
    "print(sp)"
   ],
   "id": "71bb0114e066dcde",
   "outputs": [
    {
     "name": "stdout",
     "output_type": "stream",
     "text": [
      "266.59700131680233\n"
     ]
    }
   ],
   "execution_count": 153
  },
  {
   "metadata": {
    "ExecuteTime": {
     "end_time": "2025-07-19T00:47:29.983093Z",
     "start_time": "2025-07-19T00:47:29.980249Z"
    }
   },
   "cell_type": "code",
   "source": [
    "cl = 0.98\n",
    "df = n1 + n2 - 2\n",
    "\n",
    "t_critico = stats.t.ppf((1 +cl) / 2, df=df)\n",
    "print(t_critico)"
   ],
   "id": "ed989b068ab0fd6f",
   "outputs": [
    {
     "name": "stdout",
     "output_type": "stream",
     "text": [
      "2.552379630179453\n"
     ]
    }
   ],
   "execution_count": 154
  },
  {
   "metadata": {
    "ExecuteTime": {
     "end_time": "2025-07-19T00:47:29.994690Z",
     "start_time": "2025-07-19T00:47:29.992383Z"
    }
   },
   "cell_type": "code",
   "source": [
    "lower_bound = (mean1 - mean2) - t_critico * sp * np.sqrt(1/n1 + 1/n2)\n",
    "upper_bound = (mean1 - mean2) + t_critico * sp * np.sqrt(1/n1 + 1/n2)\n",
    "\n",
    "print(lower_bound)\n",
    "print(upper_bound)"
   ],
   "id": "4325de4c2048b3c6",
   "outputs": [
    {
     "name": "stdout",
     "output_type": "stream",
     "text": [
      "-76.60951226660342\n",
      "532.009512266603\n"
     ]
    }
   ],
   "execution_count": 155
  },
  {
   "metadata": {},
   "cell_type": "markdown",
   "source": [
    "# Problema 4\n",
    "\n",
    "Los siguientes datos representan los precios ($) para una muestra de vinos cabernet Sauvignon de California que recibieron calificaciones de 93 o más en la edición de mayo de 2013 de la revista Wine spectator y otra muestra de vinos cabernet Sauvignon de California que recibieron calificaciones de 89 o menos en la misma edición.\n",
    "\n",
    "| Calificación 93+ | Calificación 89- |\n",
    "|------------------|------------------|\n",
    "| 100              | 80               |\n",
    "| 100              | 75               |\n",
    "| 60               | 75               |\n",
    "| 135              | 85               |\n",
    "| 195              | 75               |\n",
    "| 195              | 35               |\n",
    "| 125              | 85               |\n",
    "| 135              | 65               |\n",
    "| 95               | 45               |\n",
    "| 42               | 100              |\n",
    "| 75               | 28               |\n",
    "| 72               | 38               |\n",
    "|                  | 50               |\n",
    "|                  | 28               |\n",
    "\n",
    "Suponga normalidad para la población varianzas de población desconocidas y diferentes. Calcule el intervalo de confianza al 95% para estimar la diferencia de precios entre ambas calificaciones. ¿Será consistente el intervalo obtenido con la afirmación de “El precio raramente se compara con la calidad” hecha por el columnista del texto citado?"
   ],
   "id": "986a983ce2cddb61"
  },
  {
   "metadata": {
    "ExecuteTime": {
     "end_time": "2025-07-19T00:47:30.007023Z",
     "start_time": "2025-07-19T00:47:30.004335Z"
    }
   },
   "cell_type": "code",
   "source": [
    "# Datos de los vinos\n",
    "calificacion_93 = [100, 100, 60, 135, 195, 195, 125, 135, 95, 42, 75, 72]\n",
    "calificacion_89 = [80, 75, 75, 85, 75, 35, 85, 65, 45, 100, 28, 38, 50, 28]\n",
    "\n",
    "n1 = len(calificacion_93)\n",
    "n2 = len(calificacion_89)\n",
    "\n",
    "mean1 = sum(calificacion_93) / n1\n",
    "mean2 = sum(calificacion_89) / n2\n",
    "\n",
    "s1 = np.std(calificacion_93, ddof=1)\n",
    "s2 = np.std(calificacion_89, ddof=1)\n",
    "\n",
    "print(s1, s2)"
   ],
   "id": "543732a14f6ca28b",
   "outputs": [
    {
     "name": "stdout",
     "output_type": "stream",
     "text": [
      "48.744463555082106 23.843814135483285\n"
     ]
    }
   ],
   "execution_count": 156
  },
  {
   "metadata": {
    "ExecuteTime": {
     "end_time": "2025-07-19T00:47:30.023008Z",
     "start_time": "2025-07-19T00:47:30.020863Z"
    }
   },
   "cell_type": "code",
   "source": [
    "df_welch = (s1**2/n1 + s2**2/n2)**2 / ((s1**2/n1)**2/(n1-1) + (s2**2/n2)**2/(n2-1))\n",
    "se_diff = np.sqrt(s1**2/n1 + s2**2/n2)"
   ],
   "id": "d79b04e7789bbb7d",
   "outputs": [],
   "execution_count": 157
  },
  {
   "metadata": {
    "ExecuteTime": {
     "end_time": "2025-07-19T00:47:30.035014Z",
     "start_time": "2025-07-19T00:47:30.032901Z"
    }
   },
   "cell_type": "code",
   "source": [
    "cl = 0.95\n",
    "df = n1 + n2 - 2\n",
    "\n",
    "t_critico = stats.t.ppf((1 + cl) / 2, df=df_welch)\n",
    "print(t_critico)"
   ],
   "id": "a7eb43eecfd69ff5",
   "outputs": [
    {
     "name": "stdout",
     "output_type": "stream",
     "text": [
      "2.126337326391511\n"
     ]
    }
   ],
   "execution_count": 158
  },
  {
   "metadata": {
    "ExecuteTime": {
     "end_time": "2025-07-19T00:47:55.080111Z",
     "start_time": "2025-07-19T00:47:55.077692Z"
    }
   },
   "cell_type": "code",
   "source": [
    "diff_means = mean1 - mean2\n",
    "lower_bound = diff_means - t_critico * se_diff\n",
    "upper_bound = diff_means + t_critico * se_diff\n",
    "\n",
    "print(lower_bound)\n",
    "print(upper_bound)"
   ],
   "id": "18a2e77fe9f379e4",
   "outputs": [
    {
     "name": "stdout",
     "output_type": "stream",
     "text": [
      "16.19009969281702\n",
      "81.88132887861155\n"
     ]
    }
   ],
   "execution_count": 161
  }
 ],
 "metadata": {
  "kernelspec": {
   "display_name": "Python 3",
   "language": "python",
   "name": "python3"
  },
  "language_info": {
   "codemirror_mode": {
    "name": "ipython",
    "version": 2
   },
   "file_extension": ".py",
   "mimetype": "text/x-python",
   "name": "python",
   "nbconvert_exporter": "python",
   "pygments_lexer": "ipython2",
   "version": "2.7.6"
  }
 },
 "nbformat": 4,
 "nbformat_minor": 5
}
