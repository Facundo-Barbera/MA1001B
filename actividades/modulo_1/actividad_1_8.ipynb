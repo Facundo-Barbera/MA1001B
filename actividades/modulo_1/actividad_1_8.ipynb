{
 "cells": [
  {
   "metadata": {
    "ExecuteTime": {
     "end_time": "2025-07-16T03:00:01.940560Z",
     "start_time": "2025-07-16T03:00:01.434131Z"
    }
   },
   "cell_type": "code",
   "source": [
    "# Import\n",
    "from scipy.stats import gamma, poisson"
   ],
   "id": "984c71e73647c703",
   "outputs": [],
   "execution_count": 1
  },
  {
   "metadata": {},
   "cell_type": "markdown",
   "source": [
    "# Problema 1 El mantenimiento\n",
    "\n",
    "El tiempo requerido en horas por semana para mantenimiento de una máquina es una variable aleatoria gamma con paramétros α = 3 y β = 2. Resuelva los siguientes incisos."
   ],
   "id": "4230f3fdc97e47f7"
  },
  {
   "metadata": {
    "ExecuteTime": {
     "end_time": "2025-07-16T03:00:02.060355Z",
     "start_time": "2025-07-16T03:00:02.058116Z"
    }
   },
   "cell_type": "code",
   "source": [
    "alpha = 3\n",
    "beta = 2"
   ],
   "id": "9d088c32b9a4b2b4",
   "outputs": [],
   "execution_count": 2
  },
  {
   "metadata": {},
   "cell_type": "markdown",
   "source": "Encuentre la probabilidad de que en una semana el tiempo de mantenimiento sea mayor a 8 horas.",
   "id": "ccea57d80fae196"
  },
  {
   "metadata": {
    "ExecuteTime": {
     "end_time": "2025-07-16T03:00:02.077897Z",
     "start_time": "2025-07-16T03:00:02.074972Z"
    }
   },
   "cell_type": "code",
   "source": [
    "# Probabilidad de que el tiempo de mantenimiento sea mayor a 8 horas\n",
    "probabilidad_mayor_8 = 1 - gamma.cdf(8, a=alpha, scale=beta)\n",
    "\n",
    "print(probabilidad_mayor_8)"
   ],
   "id": "78fa0f9e1ffb7352",
   "outputs": [
    {
     "name": "stdout",
     "output_type": "stream",
     "text": [
      "0.23810330555354442\n"
     ]
    }
   ],
   "execution_count": 3
  },
  {
   "metadata": {},
   "cell_type": "markdown",
   "source": "Encuentre la probabilidad de que en una semana el tiempo de mantenimiento esté entre 6 y 9 horas.",
   "id": "45eafcee848cbff6"
  },
  {
   "metadata": {
    "ExecuteTime": {
     "end_time": "2025-07-16T03:00:02.121577Z",
     "start_time": "2025-07-16T03:00:02.118857Z"
    }
   },
   "cell_type": "code",
   "source": [
    "# Probabilidad de que el tiempo de mantenimiento esté entre 6 y 9 horas\n",
    "probabilidad_entre_6_y_9 = gamma.cdf(9, a=alpha, scale=beta) - gamma.cdf(6, a=alpha, scale=beta)\n",
    "\n",
    "print(probabilidad_entre_6_y_9)"
   ],
   "id": "382f3f412aaff53b",
   "outputs": [
    {
     "name": "stdout",
     "output_type": "stream",
     "text": [
      "0.24961201021680735\n"
     ]
    }
   ],
   "execution_count": 4
  },
  {
   "metadata": {},
   "cell_type": "markdown",
   "source": "Encuentre la probabilidad de que en una semana el tiempo de mantenimiento sea exactamente de 8 horas.",
   "id": "2be832018614d46a"
  },
  {
   "metadata": {
    "ExecuteTime": {
     "end_time": "2025-07-16T03:00:02.140340Z",
     "start_time": "2025-07-16T03:00:02.136669Z"
    }
   },
   "cell_type": "code",
   "source": [
    "# Probabilidad de que el tiempo de mantenimiento sea exactamente de 8 horas\n",
    "probabilidad_exactamente_8 = gamma.pdf(8, a=alpha, scale=beta)\n",
    "\n",
    "print(probabilidad_exactamente_8)"
   ],
   "id": "b9280e5b2a222de0",
   "outputs": [
    {
     "name": "stdout",
     "output_type": "stream",
     "text": [
      "0.07326255555493671\n"
     ]
    }
   ],
   "execution_count": 5
  },
  {
   "metadata": {},
   "cell_type": "markdown",
   "source": "Encuentre el valor del número de horas que sólo el 5% le supera de todos los casos.",
   "id": "5ce4632ac9207fd4"
  },
  {
   "metadata": {
    "ExecuteTime": {
     "end_time": "2025-07-16T03:00:02.166660Z",
     "start_time": "2025-07-16T03:00:02.163364Z"
    }
   },
   "cell_type": "code",
   "source": [
    "# Valor del número de horas que sólo el 5% le supera\n",
    "valor_5_por_ciento = gamma.ppf(0.95, a=alpha, scale=beta)\n",
    "\n",
    "print(valor_5_por_ciento)"
   ],
   "id": "4284fd72f72e359",
   "outputs": [
    {
     "name": "stdout",
     "output_type": "stream",
     "text": [
      "12.591587243743977\n"
     ]
    }
   ],
   "execution_count": 6
  },
  {
   "metadata": {},
   "cell_type": "markdown",
   "source": "Hallar el Rango intercuartílico de la distribución",
   "id": "a24a33a89b6cef70"
  },
  {
   "metadata": {
    "ExecuteTime": {
     "end_time": "2025-07-16T03:00:02.188535Z",
     "start_time": "2025-07-16T03:00:02.185098Z"
    }
   },
   "cell_type": "code",
   "source": [
    "# Rango intercuartílico\n",
    "q1 = gamma.ppf(0.25, a=alpha, scale=beta)\n",
    "q3 = gamma.ppf(0.75, a=alpha, scale=beta)\n",
    "rango_intercuartilico = q3 - q1\n",
    "\n",
    "print(rango_intercuartilico)"
   ],
   "id": "293ee0fa0b85b497",
   "outputs": [
    {
     "name": "stdout",
     "output_type": "stream",
     "text": [
      "4.386205284864084\n"
     ]
    }
   ],
   "execution_count": 7
  },
  {
   "metadata": {},
   "cell_type": "markdown",
   "source": "Encuentre el valor de la media y varianza",
   "id": "4121e2e742cbe97b"
  },
  {
   "metadata": {
    "ExecuteTime": {
     "end_time": "2025-07-16T03:00:02.205730Z",
     "start_time": "2025-07-16T03:00:02.202829Z"
    }
   },
   "cell_type": "code",
   "source": [
    "# Media y varianza de la distribución gamma\n",
    "media = alpha * beta\n",
    "varianza = alpha * beta**2\n",
    "\n",
    "print(media)\n",
    "print(varianza)"
   ],
   "id": "489abf1815355d04",
   "outputs": [
    {
     "name": "stdout",
     "output_type": "stream",
     "text": [
      "6\n",
      "12\n"
     ]
    }
   ],
   "execution_count": 8
  },
  {
   "metadata": {},
   "cell_type": "markdown",
   "source": "¿Cuál será la probabilidad de que el número de horas exceda en 2 desviaciones estándar a su valor esperado?",
   "id": "ade6d5c190a70e4"
  },
  {
   "metadata": {
    "ExecuteTime": {
     "end_time": "2025-07-16T03:00:02.230886Z",
     "start_time": "2025-07-16T03:00:02.226860Z"
    }
   },
   "cell_type": "code",
   "source": [
    "# Probabilidad de que el número de horas exceda en 2 desviaciones estándar a su valor esperado\n",
    "desviacion_estandar = beta * (alpha ** 0.5)\n",
    "probabilidad_excede_2_desviaciones = 1 - gamma.cdf(media + 2 * desviacion_estandar, a=alpha, scale=beta)\n",
    "\n",
    "print(probabilidad_excede_2_desviaciones)"
   ],
   "id": "eabcc2b54547bd38",
   "outputs": [
    {
     "name": "stdout",
     "output_type": "stream",
     "text": [
      "0.04419035912434999\n"
     ]
    }
   ],
   "execution_count": 9
  },
  {
   "metadata": {},
   "cell_type": "markdown",
   "source": [
    "# Problema 2 Drive Thue\n",
    "\n",
    "El tiempo de llegada a una ventanilla de toma de órdenes desde un automóvil de un cierto comercio de hamburguesas sigue un proceso de Poisson con un promedio 12 de llegadas por hora en hora pico. T es el tiempo de espera hasta la llegada del tercer cliente."
   ],
   "id": "5d3e403a43b1a273"
  },
  {
   "metadata": {},
   "cell_type": "markdown",
   "source": "¿Cuál será la probabilidad de que el tiempo de espera de tres personas sea a lo más de 20 minutos?",
   "id": "927323578eeedfef"
  },
  {
   "metadata": {
    "ExecuteTime": {
     "end_time": "2025-07-16T03:00:02.257836Z",
     "start_time": "2025-07-16T03:00:02.253635Z"
    }
   },
   "cell_type": "code",
   "source": [
    "lambda_param = 12 / 60\n",
    "\n",
    "probabilidad_20_minutos = gamma.cdf(20, a=3, scale=1/lambda_param)\n",
    "\n",
    "print(probabilidad_20_minutos)"
   ],
   "id": "7b0561c062ad0805",
   "outputs": [
    {
     "name": "stdout",
     "output_type": "stream",
     "text": [
      "0.7618966944464556\n"
     ]
    }
   ],
   "execution_count": 10
  },
  {
   "metadata": {},
   "cell_type": "markdown",
   "source": "¿Cuál es la probabilidad de que el tiempo de espera de una persona esté entre 5 y 10 segundos?",
   "id": "71c85d56b92bc9db"
  },
  {
   "metadata": {
    "ExecuteTime": {
     "end_time": "2025-07-16T03:00:02.283844Z",
     "start_time": "2025-07-16T03:00:02.280810Z"
    }
   },
   "cell_type": "code",
   "source": [
    "lambda_sec = 12 / 3600\n",
    "theta_sec = 1 / lambda_sec\n",
    "\n",
    "probabilidad_entre_5_y_10_segundos = gamma.cdf(10, a=1, scale=theta_sec) - gamma.cdf(5, a=1, scale=theta_sec)\n",
    "\n",
    "print(probabilidad_entre_5_y_10_segundos)"
   ],
   "id": "ff6d278cd78784c",
   "outputs": [
    {
     "name": "stdout",
     "output_type": "stream",
     "text": [
      "0.016255353339611575\n"
     ]
    }
   ],
   "execution_count": 11
  },
  {
   "metadata": {},
   "cell_type": "markdown",
   "source": "¿Cuál será la probabilidad de que en 15 minutos lleguen a lo más tres personas?",
   "id": "afe8eab8ab3580d2"
  },
  {
   "metadata": {
    "ExecuteTime": {
     "end_time": "2025-07-16T03:00:02.307222Z",
     "start_time": "2025-07-16T03:00:02.302484Z"
    }
   },
   "cell_type": "code",
   "source": [
    "lambda_hora = 12\n",
    "tiempo = 15\n",
    "lambda_15_minutos = lambda_hora * (tiempo / 60)\n",
    "\n",
    "probabilidad_tres_personas_15_minutos = poisson.cdf(3, lambda_15_minutos)\n",
    "\n",
    "print(probabilidad_tres_personas_15_minutos)"
   ],
   "id": "b9a700781f865a0e",
   "outputs": [
    {
     "name": "stdout",
     "output_type": "stream",
     "text": [
      "0.6472318887822313\n"
     ]
    }
   ],
   "execution_count": 12
  },
  {
   "metadata": {},
   "cell_type": "markdown",
   "source": "¿Cuál es la probabilidad de que el tiempo de espera de tres personas esté entre 5 y 10 segundos?",
   "id": "efeef3d7fea609c"
  },
  {
   "metadata": {
    "ExecuteTime": {
     "end_time": "2025-07-16T03:00:17.161452Z",
     "start_time": "2025-07-16T03:00:17.157631Z"
    }
   },
   "cell_type": "code",
   "source": [
    "lambda_3_personas = 12 / 3600\n",
    "theta_3_personas = 1 / lambda_3_personas\n",
    "\n",
    "probabilidad_entre_5_y_10_segundos_3_personas = gamma.cdf(10, a=3, scale=theta_3_personas) - gamma.cdf(5, a=3, scale=theta_3_personas)\n",
    "\n",
    "print(probabilidad_entre_5_y_10_segundos_3_personas)"
   ],
   "id": "72c4e5b8359a72c0",
   "outputs": [
    {
     "name": "stdout",
     "output_type": "stream",
     "text": [
      "5.258533334681338e-06\n"
     ]
    }
   ],
   "execution_count": 13
  },
  {
   "metadata": {},
   "cell_type": "markdown",
   "source": "Determine la media y varianza del tiempo de espera de tres personas.",
   "id": "e10f181ed1b4b175"
  },
  {
   "metadata": {
    "ExecuteTime": {
     "end_time": "2025-07-16T03:06:47.034295Z",
     "start_time": "2025-07-16T03:06:47.031333Z"
    }
   },
   "cell_type": "code",
   "source": [
    "lambda_tiempo_espera = 12 / 60\n",
    "media_tiempo_espera = 3 / lambda_tiempo_espera\n",
    "varianza_tiempo_espera = 3 / (lambda_tiempo_espera ** 2)\n",
    "\n",
    "print(media_tiempo_espera / 60)\n",
    "print(varianza_tiempo_espera / 3600)"
   ],
   "id": "456a101e933f1d5e",
   "outputs": [
    {
     "name": "stdout",
     "output_type": "stream",
     "text": [
      "0.25\n",
      "0.02083333333333333\n"
     ]
    }
   ],
   "execution_count": 23
  },
  {
   "metadata": {},
   "cell_type": "markdown",
   "source": "¿Cuál será la probabilidad de que el tiempo de espera de tres personas exceda una desviación estándar arriba de la media?",
   "id": "2849e3e64b92dc2c"
  },
  {
   "metadata": {
    "ExecuteTime": {
     "end_time": "2025-07-16T03:04:52.692493Z",
     "start_time": "2025-07-16T03:04:52.688683Z"
    }
   },
   "cell_type": "code",
   "source": [
    "desviacion_estandar_tiempo_espera_3 = varianza_tiempo_espera ** 0.5\n",
    "umbral = media_tiempo_espera + desviacion_estandar_tiempo_espera_3\n",
    "\n",
    "probabilidad_excede_desviacion_estandar = 1 - gamma.cdf(umbral, a=3, scale=1 / lambda_tiempo_espera)\n",
    "\n",
    "print(probabilidad_excede_desviacion_estandar)"
   ],
   "id": "9e7867ab3510bbb2",
   "outputs": [
    {
     "name": "stdout",
     "output_type": "stream",
     "text": [
      "0.14911018549049082\n"
     ]
    }
   ],
   "execution_count": 20
  }
 ],
 "metadata": {
  "kernelspec": {
   "display_name": "Python 3",
   "language": "python",
   "name": "python3"
  },
  "language_info": {
   "codemirror_mode": {
    "name": "ipython",
    "version": 2
   },
   "file_extension": ".py",
   "mimetype": "text/x-python",
   "name": "python",
   "nbconvert_exporter": "python",
   "pygments_lexer": "ipython2",
   "version": "2.7.6"
  }
 },
 "nbformat": 4,
 "nbformat_minor": 5
}
