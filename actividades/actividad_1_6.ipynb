{
 "cells": [
  {
   "metadata": {
    "ExecuteTime": {
     "end_time": "2025-07-08T22:00:59.436214Z",
     "start_time": "2025-07-08T22:00:59.432940Z"
    }
   },
   "cell_type": "code",
   "source": [
    "# Imports\n",
    "import numpy as np"
   ],
   "id": "da0f5d59d7d645fb",
   "outputs": [],
   "execution_count": 13
  },
  {
   "metadata": {},
   "cell_type": "markdown",
   "source": [
    "Una compañía de productos en la actualidad tiene en existencia 100lb de un producto químico, el cual se vende a sus clientes en lotes de 5 lb. Sea X = el número de lotes solicitados por un cliente seleccionado al azar y suponga que X tiene la función de masa de probabilidad dada abajo.\n",
    "\n",
    "| x    | 1   | 2   | 3   | 4   |\n",
    "|------|-----|-----|-----|-----|\n",
    "| P(x) | 0.2 | 0.4 | 0.3 | 0.1 |\n",
    "\n",
    "Calcule E(X) y V(X). Calcule en seguida el número esperado de libras que quedan una vez que se envía el pedido del siguiente cliente y la varianza del número de libras que quedan.\n",
    "[Sugerencia: el número de libras que quedan es una función lineal de X]"
   ],
   "id": "3068fbb572a532b"
  },
  {
   "cell_type": "code",
   "id": "initial_id",
   "metadata": {
    "collapsed": true,
    "ExecuteTime": {
     "end_time": "2025-07-08T22:00:59.451304Z",
     "start_time": "2025-07-08T22:00:59.447827Z"
    }
   },
   "source": [
    "x = np.array([1, 2, 3, 4])\n",
    "p_x = np.array([0.2, 0.4, 0.3, 0.1])\n",
    "\n",
    "libras_iniciales = 100\n",
    "libras_por_lote = 5\n",
    "\n",
    "E_X = np.sum(x * p_x)\n",
    "V_X = np.sum((x - E_X) ** 2 * p_x)\n",
    "libras_esperadas = libras_iniciales - (E_X * libras_por_lote)\n",
    "V_libras = (libras_por_lote ** 2) * V_X\n",
    "\n",
    "print(f\"E(X) = {E_X}\")\n",
    "print(f\"V(X) = {V_X}\")\n",
    "print(f\"Libras esperadas que quedan = {libras_esperadas}\")\n",
    "print(f\"Varianza del número de libras que quedan = {V_libras}\")"
   ],
   "outputs": [
    {
     "name": "stdout",
     "output_type": "stream",
     "text": [
      "E(X) = 2.3\n",
      "V(X) = 0.81\n",
      "Libras esperadas que quedan = 88.5\n",
      "Varianza del número de libras que quedan = 20.25\n"
     ]
    }
   ],
   "execution_count": 14
  },
  {
   "metadata": {},
   "cell_type": "markdown",
   "source": [
    "Un distribuidor de enseres par el hogar vende tres modelos congelados verticales con una capacidad de 16,18 y 20 pies cúbicos, respectivamente. Sea X=la cantidad de espacio de almacenamiento adquirido por el siguiente cliente que compre un congelador. Suponga que X tiene la siguiente función de probabilidad\n",
    "\n",
    "| x      | 16  | 18  | 20  |\n",
    "|--------|-----|-----|-----|\n",
    "| P(X=x) | 0.4 | 0.3 | 0.3 |\n",
    "\n",
    "a) Calcula el valor esperado de: x como de x^2, además de la varianza de X\n",
    "b) Si el precio de un congelador de X pies cúbicos de capacidad es de 70x-650, ¿Cuál es el precio que se espera que pague el siguiente cliente que compre un congelador?\n",
    "c) Cuál es la varianza y desviación estándar del precio de un congelador"
   ],
   "id": "362b72894f8db4fd"
  },
  {
   "metadata": {
    "ExecuteTime": {
     "end_time": "2025-07-08T22:00:59.472276Z",
     "start_time": "2025-07-08T22:00:59.468859Z"
    }
   },
   "cell_type": "code",
   "source": [
    "x = np.array([16, 18, 20])\n",
    "p_x = np.array([0.4, 0.3, 0.3])\n",
    "\n",
    "# A)\n",
    "E_X = np.sum(x * p_x)\n",
    "E_X2 = np.sum((x ** 2) * p_x)\n",
    "V_X = E_X2 - E_X ** 2\n",
    "\n",
    "# B)\n",
    "precio_por_congelador = 70 * E_X - 650\n",
    "\n",
    "# C)\n",
    "precio_congelador = 70 * x - 650\n",
    "V_precio = np.sum((precio_congelador - precio_por_congelador) ** 2 * p_x)\n",
    "std_precio = np.sqrt(V_precio)\n",
    "\n",
    "print(f\"E(X) = {E_X}\")\n",
    "print(f\"E(X^2) = {E_X2}\")\n",
    "print(f\"V(X) = {V_X}\")\n",
    "print(f\"Precio esperado que pagará el siguiente cliente = {precio_por_congelador}\")\n",
    "print(f\"Varianza del precio de un congelador = {V_precio}\")\n",
    "print(f\"Desviación estándar del precio de un congelador = {std_precio}\")"
   ],
   "id": "14d372c373c8e7c2",
   "outputs": [
    {
     "name": "stdout",
     "output_type": "stream",
     "text": [
      "E(X) = 17.8\n",
      "E(X^2) = 319.6\n",
      "V(X) = 2.759999999999991\n",
      "Precio esperado que pagará el siguiente cliente = 596.0\n",
      "Varianza del precio de un congelador = 13524.0\n",
      "Desviación estándar del precio de un congelador = 116.29273408085305\n"
     ]
    }
   ],
   "execution_count": 15
  },
  {
   "metadata": {
    "ExecuteTime": {
     "end_time": "2025-07-08T22:00:59.492132Z",
     "start_time": "2025-07-08T22:00:59.490606Z"
    }
   },
   "cell_type": "code",
   "source": "",
   "id": "65abe587b8daf68d",
   "outputs": [],
   "execution_count": null
  }
 ],
 "metadata": {
  "kernelspec": {
   "display_name": "Python 3",
   "language": "python",
   "name": "python3"
  },
  "language_info": {
   "codemirror_mode": {
    "name": "ipython",
    "version": 2
   },
   "file_extension": ".py",
   "mimetype": "text/x-python",
   "name": "python",
   "nbconvert_exporter": "python",
   "pygments_lexer": "ipython2",
   "version": "2.7.6"
  }
 },
 "nbformat": 4,
 "nbformat_minor": 5
}
