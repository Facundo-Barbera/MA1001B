{
 "cells": [
  {
   "metadata": {
    "ExecuteTime": {
     "end_time": "2025-07-14T22:31:13.496355Z",
     "start_time": "2025-07-14T22:31:13.493968Z"
    }
   },
   "cell_type": "code",
   "source": [
    "# Importes\n",
    "from scipy.stats import norm, binom"
   ],
   "id": "b430ca024cd9532c",
   "outputs": [],
   "execution_count": 38
  },
  {
   "metadata": {},
   "cell_type": "markdown",
   "source": [
    "# Ejercicio 1\n",
    "\n",
    "Considérese una variable aleatoria X con distribución de población normal con media μ y desviación estándar σ de la cual se obtiene un dato al azar. Conteste:"
   ],
   "id": "5ea733244e53fc5d"
  },
  {
   "metadata": {},
   "cell_type": "markdown",
   "source": "a) ¿Cuál es la probabilidad de que el dato esté 2.81 desviaciones estándar alrededor de la media?",
   "id": "739e9e7aa0eff3f9"
  },
  {
   "metadata": {
    "ExecuteTime": {
     "end_time": "2025-07-14T22:31:13.520507Z",
     "start_time": "2025-07-14T22:31:13.516907Z"
    }
   },
   "cell_type": "code",
   "source": [
    "z = 2.81\n",
    "\n",
    "probabilidad_a = norm.cdf(z) - norm.cdf(-z)\n",
    "\n",
    "print(probabilidad_a)"
   ],
   "id": "2a97cc5034e11467",
   "outputs": [
    {
     "name": "stdout",
     "output_type": "stream",
     "text": [
      "0.9950458500024282\n"
     ]
    }
   ],
   "execution_count": 39
  },
  {
   "metadata": {},
   "cell_type": "markdown",
   "source": "b) ¿Cuál es la probabilidad de que el dato esté 1.44 desviaciones estándar alrededor de la media?",
   "id": "36c21f03602d9379"
  },
  {
   "metadata": {
    "ExecuteTime": {
     "end_time": "2025-07-14T22:31:13.584053Z",
     "start_time": "2025-07-14T22:31:13.580740Z"
    }
   },
   "cell_type": "code",
   "source": [
    "z = 1.44\n",
    "\n",
    "probabilidad_b = norm.cdf(z) - norm.cdf(-z)\n",
    "\n",
    "print(probabilidad_b)"
   ],
   "id": "3b6ae49334ea6e00",
   "outputs": [
    {
     "name": "stdout",
     "output_type": "stream",
     "text": [
      "0.8501326009313459\n"
     ]
    }
   ],
   "execution_count": 40
  },
  {
   "metadata": {},
   "cell_type": "markdown",
   "source": [
    "c) ¿Cuántas desviaciones estándar hay que sumarle a la media para que la probabilidad de que el\n",
    "dato esté ese número de desviaciones estándar alrededor de la media sea de 0.997?"
   ],
   "id": "1486b48960b09ae1"
  },
  {
   "metadata": {
    "ExecuteTime": {
     "end_time": "2025-07-14T22:31:13.666807Z",
     "start_time": "2025-07-14T22:31:13.663589Z"
    }
   },
   "cell_type": "code",
   "source": [
    "probabilidad_c = 0.997\n",
    "\n",
    "z_c = norm.ppf((1 + probabilidad_c) / 2)\n",
    "\n",
    "print(z_c)"
   ],
   "id": "8d9f1c109a105a11",
   "outputs": [
    {
     "name": "stdout",
     "output_type": "stream",
     "text": [
      "2.9677379253417717\n"
     ]
    }
   ],
   "execution_count": 41
  },
  {
   "metadata": {},
   "cell_type": "markdown",
   "source": "¿Cuántas desviaciones estándar hay que sumarle a la media para que la probabilidad alrededor de la media sea de 0.75?",
   "id": "f562585c3304be15"
  },
  {
   "cell_type": "code",
   "id": "initial_id",
   "metadata": {
    "collapsed": true,
    "ExecuteTime": {
     "end_time": "2025-07-14T22:31:13.710621Z",
     "start_time": "2025-07-14T22:31:13.707456Z"
    }
   },
   "source": [
    "probabilidad_d = 0.75\n",
    "\n",
    "z_d = norm.ppf((1 + probabilidad_d) / 2)\n",
    "\n",
    "print(z_d)"
   ],
   "outputs": [
    {
     "name": "stdout",
     "output_type": "stream",
     "text": [
      "1.1503493803760079\n"
     ]
    }
   ],
   "execution_count": 42
  },
  {
   "metadata": {},
   "cell_type": "markdown",
   "source": [
    "# Ejercicio 2\n",
    "\n",
    "Un estudiante del Tec vive cerca del Campus. El tiempo promedio para un viaje de ida al Tec por la mañana es de dieciocho minutos, con una desviación estándar de cinco minutos. Supongamos que la distribución de los tiempos de viaje está distribuida normalmente."
   ],
   "id": "b3833d7481837e40"
  },
  {
   "metadata": {},
   "cell_type": "markdown",
   "source": [
    "a) Aunque el estudiante entra a las 7:10 a.m. a él le gusta llegar a las 7 en punto. Si decidiera salir\n",
    "de su casa a las 6:45 a.m., ¿Qué proporción de las veces cumpliría su objetivo de estar a las 7 en\n",
    "su clase?"
   ],
   "id": "6e1f594450664b10"
  },
  {
   "metadata": {
    "ExecuteTime": {
     "end_time": "2025-07-14T22:31:13.758476Z",
     "start_time": "2025-07-14T22:31:13.754220Z"
    }
   },
   "cell_type": "code",
   "source": [
    "media = 18\n",
    "desviacion_estandar = 5\n",
    "tiempo_salida = 6 * 60 + 45\n",
    "tiempo_clase = 7 * 60\n",
    "\n",
    "tiempo_llegada = tiempo_salida + media\n",
    "\n",
    "z = (tiempo_clase - tiempo_llegada) / desviacion_estandar\n",
    "proporcion_a = norm.cdf(z)\n",
    "\n",
    "print(proporcion_a)"
   ],
   "id": "f2f86167a327ee7e",
   "outputs": [
    {
     "name": "stdout",
     "output_type": "stream",
     "text": [
      "0.2742531177500736\n"
     ]
    }
   ],
   "execution_count": 43
  },
  {
   "metadata": {},
   "cell_type": "markdown",
   "source": "b) ¿A qué hora debería salir de su casa si quiere estar a las 7 en su salón de clases al menos nueve de cada diez veces?",
   "id": "40e10ce89352dd8f"
  },
  {
   "metadata": {
    "ExecuteTime": {
     "end_time": "2025-07-14T22:31:13.830129Z",
     "start_time": "2025-07-14T22:31:13.826080Z"
    }
   },
   "cell_type": "code",
   "source": [
    "proporcion_b = 0.90\n",
    "\n",
    "z_b = norm.ppf(proporcion_b)\n",
    "tiempo_llegada_b = tiempo_clase - z_b * desviacion_estandar\n",
    "tiempo_salida_b = tiempo_llegada_b - media\n",
    "\n",
    "hora_salida_b = tiempo_salida_b // 60\n",
    "minuto_salida_b = tiempo_salida_b % 60\n",
    "\n",
    "print(f\"Hora de salida: {int(hora_salida_b)}:{int(minuto_salida_b):02d}\")"
   ],
   "id": "154e94f952eae980",
   "outputs": [
    {
     "name": "stdout",
     "output_type": "stream",
     "text": [
      "Hora de salida: 6:35\n"
     ]
    }
   ],
   "execution_count": 44
  },
  {
   "metadata": {},
   "cell_type": "markdown",
   "source": [
    "# Ejercicio 3\n",
    "\n",
    "Se sabe que el tiempo para resolver un examen de Modelación Estadística sigue una distribución normal con una media de 98 min y una desviación estándar de 16 minutos."
   ],
   "id": "c56304884b06ee73"
  },
  {
   "metadata": {},
   "cell_type": "markdown",
   "source": "a) ¿Cuál es la probabilidad de que un alumno termine el examen en menos de 90 minutos?",
   "id": "5b00c4f59909f3ce"
  },
  {
   "metadata": {
    "ExecuteTime": {
     "end_time": "2025-07-14T22:31:13.865625Z",
     "start_time": "2025-07-14T22:31:13.862692Z"
    }
   },
   "cell_type": "code",
   "source": [
    "media_examen = 98\n",
    "desviacion_estandar_examen = 16\n",
    "tiempo_examen = 90\n",
    "\n",
    "z_examen = (tiempo_examen - media_examen) / desviacion_estandar_examen\n",
    "probabilidad_examen_a = norm.cdf(z_examen)\n",
    "\n",
    "print(probabilidad_examen_a)"
   ],
   "id": "dfea9e0e5ee2ff65",
   "outputs": [
    {
     "name": "stdout",
     "output_type": "stream",
     "text": [
      "0.3085375387259869\n"
     ]
    }
   ],
   "execution_count": 45
  },
  {
   "metadata": {},
   "cell_type": "markdown",
   "source": "b) Si el profesor aplica el examen a 30 alumnos y les da dos horas para resolverlo, ¿cuántos de estos se espera que no terminen el examen en el tiempo asignado?",
   "id": "512aa0243ab230be"
  },
  {
   "metadata": {
    "ExecuteTime": {
     "end_time": "2025-07-14T22:31:13.888478Z",
     "start_time": "2025-07-14T22:31:13.884632Z"
    }
   },
   "cell_type": "code",
   "source": [
    "tiempo_maximo = 120\n",
    "numero_alumnos = 30\n",
    "\n",
    "z_examen_b = (tiempo_maximo - media_examen) / desviacion_estandar_examen\n",
    "probabilidad_examen_b = 1 - norm.cdf(z_examen_b)\n",
    "\n",
    "esperados_no_terminan = numero_alumnos * probabilidad_examen_b\n",
    "print(esperados_no_terminan)"
   ],
   "id": "4ff8ce8f50aec3d2",
   "outputs": [
    {
     "name": "stdout",
     "output_type": "stream",
     "text": [
      "2.536971670540069\n"
     ]
    }
   ],
   "execution_count": 46
  },
  {
   "metadata": {},
   "cell_type": "markdown",
   "source": [
    "# Ejercicio 4\n",
    "\n",
    "La resistencia a la compresión de muestras de cemento puede modelarse mediante una distribuciónnormal con media 6000 kilogramos por centímetro cuadrado y una desviación estándar de 100 kilogramos por centímetro cuadrado."
   ],
   "id": "dcbeb9294cd2a1a3"
  },
  {
   "metadata": {},
   "cell_type": "markdown",
   "source": [
    "a) ¿Cuál es la probabilidad de que la resistencia a la compresión de una muestra sea menor que\n",
    "6150 kg/cm2?"
   ],
   "id": "2695926528a2be82"
  },
  {
   "metadata": {
    "ExecuteTime": {
     "end_time": "2025-07-14T22:31:13.965538Z",
     "start_time": "2025-07-14T22:31:13.961660Z"
    }
   },
   "cell_type": "code",
   "source": [
    "media_cemento = 6000\n",
    "desviacion_estandar_cemento = 100\n",
    "resistencia_cemento = 6150\n",
    "\n",
    "z_cemento_a = (resistencia_cemento - media_cemento) / desviacion_estandar_cemento\n",
    "probabilidad_cemento_a = norm.cdf(z_cemento_a)\n",
    "\n",
    "print(probabilidad_cemento_a)"
   ],
   "id": "27b2d9538c3b1513",
   "outputs": [
    {
     "name": "stdout",
     "output_type": "stream",
     "text": [
      "0.9331927987311419\n"
     ]
    }
   ],
   "execution_count": 47
  },
  {
   "metadata": {},
   "cell_type": "markdown",
   "source": [
    "b) ¿Cuál es la probabilidad de que la resistencia a la compresión de una muestra esté entre 5800 y\n",
    "5900 kg/cm2?"
   ],
   "id": "27e5e5bdc0de3ab8"
  },
  {
   "metadata": {
    "ExecuteTime": {
     "end_time": "2025-07-14T22:31:13.995051Z",
     "start_time": "2025-07-14T22:31:13.992184Z"
    }
   },
   "cell_type": "code",
   "source": [
    "resistencia_minima = 5800\n",
    "resistencia_maxima = 5900\n",
    "\n",
    "z_cemento_minimo = (resistencia_minima - media_cemento) / desviacion_estandar_cemento\n",
    "z_cemento_maximo = (resistencia_maxima - media_cemento) / desviacion_estandar_cemento\n",
    "probabilidad_cemento_b = norm.cdf(z_cemento_maximo) - norm.cdf(z_cemento_minimo)\n",
    "\n",
    "print(probabilidad_cemento_b)"
   ],
   "id": "a294fa7e01ec823a",
   "outputs": [
    {
     "name": "stdout",
     "output_type": "stream",
     "text": [
      "0.13590512198327787\n"
     ]
    }
   ],
   "execution_count": 48
  },
  {
   "metadata": {},
   "cell_type": "markdown",
   "source": "c) ¿Cuál es la resistencia a la compresión que excede 95% de las muestras?",
   "id": "273c4c7ef750a3c4"
  },
  {
   "metadata": {
    "ExecuteTime": {
     "end_time": "2025-07-14T22:31:14.020190Z",
     "start_time": "2025-07-14T22:31:14.016396Z"
    }
   },
   "cell_type": "code",
   "source": [
    "proporcion_cemento_c = 0.95\n",
    "\n",
    "z_cemento_c = norm.ppf(proporcion_cemento_c)\n",
    "resistencia_cemento_c = media_cemento + z_cemento_c * desviacion_estandar_cemento\n",
    "\n",
    "print(resistencia_cemento_c)"
   ],
   "id": "170ecd27fbc32583",
   "outputs": [
    {
     "name": "stdout",
     "output_type": "stream",
     "text": [
      "6164.485362695147\n"
     ]
    }
   ],
   "execution_count": 49
  },
  {
   "metadata": {},
   "cell_type": "markdown",
   "source": "d) Si se toman 7 muestras, ¿cuál es la probabilidad de que por lo menos 3 de ellas tengan una resistencia entre 5800 y 5900 kg/cm2?",
   "id": "abdd07875ca2e30d"
  },
  {
   "metadata": {
    "ExecuteTime": {
     "end_time": "2025-07-14T22:31:14.061028Z",
     "start_time": "2025-07-14T22:31:14.057366Z"
    }
   },
   "cell_type": "code",
   "source": [
    "n_muestras = 7\n",
    "\n",
    "probabilidad_cemento_b = norm.cdf(z_cemento_maximo) - norm.cdf(z_cemento_minimo)\n",
    "probabilidad_al_menos_3 = sum(binom.pmf(k, n_muestras, probabilidad_cemento_b) for k in range(3, n_muestras + 1))\n",
    "\n",
    "print(probabilidad_al_menos_3)"
   ],
   "id": "6c43cf6507c15c24",
   "outputs": [
    {
     "name": "stdout",
     "output_type": "stream",
     "text": [
      "0.05744985893524996\n"
     ]
    }
   ],
   "execution_count": 50
  },
  {
   "metadata": {},
   "cell_type": "markdown",
   "source": [
    "# Ejercicio 5\n",
    "\n",
    "Suponga que el diámetro a la altura del pecho (pulg) de árboles de un tipo esta normalmente distribuido con μ = 8.8 y σ = 2.8, como sugiere en el artículo \"Simulating a Harvester-forwarder softwood thining\" (Forest Products J., mayo de 1997; 36-41)."
   ],
   "id": "331c3874a2cb6288"
  },
  {
   "metadata": {},
   "cell_type": "markdown",
   "source": "a) ¿Cuál es la probabilidad de que el diámetro de un árbol seleccionado al azar sea por lo menos de 10 pulgadas? ¿y qué exceda de 10 pulgadas?",
   "id": "aedf7d888e06f754"
  },
  {
   "metadata": {
    "ExecuteTime": {
     "end_time": "2025-07-14T22:31:14.108082Z",
     "start_time": "2025-07-14T22:31:14.103679Z"
    }
   },
   "cell_type": "code",
   "source": [
    "media_arbol = 8.8\n",
    "desviacion_estandar_arbol = 2.8\n",
    "diametro_minimo = 10\n",
    "\n",
    "z_arbol_minimo = (diametro_minimo - media_arbol) / desviacion_estandar_arbol\n",
    "probabilidad_arbol_a = 1 - norm.cdf(z_arbol_minimo)\n",
    "\n",
    "print(probabilidad_arbol_a)"
   ],
   "id": "afa7800966098ef4",
   "outputs": [
    {
     "name": "stdout",
     "output_type": "stream",
     "text": [
      "0.3341175708976247\n"
     ]
    }
   ],
   "execution_count": 51
  },
  {
   "metadata": {},
   "cell_type": "markdown",
   "source": "b) ¿Cuál es la probabilidad de que un árbol seleccionado al azar tenga un diámetro mayor de 20 pulgadas?",
   "id": "2c935a3fd2af6865"
  },
  {
   "metadata": {
    "ExecuteTime": {
     "end_time": "2025-07-14T22:31:14.139293Z",
     "start_time": "2025-07-14T22:31:14.135936Z"
    }
   },
   "cell_type": "code",
   "source": [
    "diametro_maximo = 20\n",
    "\n",
    "z_arbol_maximo = (diametro_maximo - media_arbol) / desviacion_estandar_arbol\n",
    "probabilidad_arbol_b = 1 - norm.cdf(z_arbol_maximo)\n",
    "\n",
    "print(probabilidad_arbol_b)"
   ],
   "id": "1d997540ca1c8409",
   "outputs": [
    {
     "name": "stdout",
     "output_type": "stream",
     "text": [
      "3.167124183311998e-05\n"
     ]
    }
   ],
   "execution_count": 52
  },
  {
   "metadata": {},
   "cell_type": "markdown",
   "source": "c) ¿Cuál es la probabilidad de que el diámetro de un árbol seleccionado al azar esté entre 5 y 10 pulg de diámetro?",
   "id": "6f4d8049f4a60199"
  },
  {
   "metadata": {
    "ExecuteTime": {
     "end_time": "2025-07-14T22:31:14.155132Z",
     "start_time": "2025-07-14T22:31:14.151992Z"
    }
   },
   "cell_type": "code",
   "source": [
    "diametro_minimo_c = 5\n",
    "diametro_maximo_c = 10\n",
    "\n",
    "z_arbol_minimo_c = (diametro_minimo_c - media_arbol) / desviacion_estandar_arbol\n",
    "z_arbol_maximo_c = (diametro_maximo_c - media_arbol) / desviacion_estandar_arbol\n",
    "probabilidad_arbol_c = norm.cdf(z_arbol_maximo_c) - norm.cdf(z_arbol_minimo_c)\n",
    "\n",
    "print(probabilidad_arbol_c)"
   ],
   "id": "6d5e9334a085398",
   "outputs": [
    {
     "name": "stdout",
     "output_type": "stream",
     "text": [
      "0.5785145174947517\n"
     ]
    }
   ],
   "execution_count": 53
  },
  {
   "metadata": {},
   "cell_type": "markdown",
   "source": "d) ¿Qué valor c es tal que el intervalo (8.8 - c, 8.8 + c) incluya el 98% de todos los valores del diámetro?",
   "id": "93c12ce5ed75dbca"
  },
  {
   "metadata": {
    "ExecuteTime": {
     "end_time": "2025-07-14T22:31:14.196948Z",
     "start_time": "2025-07-14T22:31:14.192839Z"
    }
   },
   "cell_type": "code",
   "source": [
    "proporcion_arbol_d = 0.98\n",
    "\n",
    "z_arbol_d = norm.ppf((1 + proporcion_arbol_d) / 2)\n",
    "c_arbol_d = z_arbol_d * desviacion_estandar_arbol\n",
    "\n",
    "print(c_arbol_d)"
   ],
   "id": "a6765b66da439554",
   "outputs": [
    {
     "name": "stdout",
     "output_type": "stream",
     "text": [
      "6.513774047314354\n"
     ]
    }
   ],
   "execution_count": 54
  },
  {
   "metadata": {},
   "cell_type": "markdown",
   "source": [
    "# Ejercicio 6\n",
    "\n",
    "Suponga que el tiempo de reemplazo de equipo de cómputo de oficina se distribuye normalmente, con\n",
    "una media de 3.1 años y una desviación estándar de 1.4 años (con base en datos de “Getting Things\n",
    "Fixed”, Consumer Reports). Dibuje la Normal en este caso"
   ],
   "id": "8a4af908442d49a2"
  },
  {
   "metadata": {},
   "cell_type": "markdown",
   "source": "a) Calcule la probabilidad de que un equipo de cómputo de oficina dure entre 2 y 4 años.",
   "id": "69dce5991a53613e"
  },
  {
   "metadata": {
    "ExecuteTime": {
     "end_time": "2025-07-14T22:31:14.240112Z",
     "start_time": "2025-07-14T22:31:14.236823Z"
    }
   },
   "cell_type": "code",
   "source": [
    "media_computo = 3.1\n",
    "desviacion_estandar_computo = 1.4\n",
    "tiempo_minimo = 2\n",
    "tiempo_maximo = 4\n",
    "\n",
    "z_minimo = (tiempo_minimo - media_computo) / desviacion_estandar_computo\n",
    "z_maximo = (tiempo_maximo - media_computo) / desviacion_estandar_computo\n",
    "probabilidad_computo_a = norm.cdf(z_maximo) - norm.cdf(z_minimo)\n",
    "\n",
    "print(probabilidad_computo_a)"
   ],
   "id": "269e6ca2ff3c1d0c",
   "outputs": [
    {
     "name": "stdout",
     "output_type": "stream",
     "text": [
      "0.5238241537438129\n"
     ]
    }
   ],
   "execution_count": 55
  },
  {
   "metadata": {},
   "cell_type": "markdown",
   "source": "b) A partir de qué tiempo están el 10% de los equipos que más duran. Dibuje Normal de este caso.",
   "id": "c6a817d755ae2616"
  },
  {
   "metadata": {
    "ExecuteTime": {
     "end_time": "2025-07-14T22:31:14.282175Z",
     "start_time": "2025-07-14T22:31:14.279253Z"
    }
   },
   "cell_type": "code",
   "source": [
    "proporcion_computo_b = 0.90\n",
    "\n",
    "z_computo_b = norm.ppf(proporcion_computo_b)\n",
    "tiempo_computo_b = media_computo + z_computo_b * desviacion_estandar_computo\n",
    "\n",
    "print(tiempo_computo_b)"
   ],
   "id": "8498cabf11a31b02",
   "outputs": [
    {
     "name": "stdout",
     "output_type": "stream",
     "text": [
      "4.894172191762441\n"
     ]
    }
   ],
   "execution_count": 56
  },
  {
   "metadata": {},
   "cell_type": "markdown",
   "source": "c) A cuántas desviaciones estándar alrededor de la media corresponde el 90% de los tiempos de duración de los equipos.",
   "id": "27ccc3a5dd004847"
  },
  {
   "metadata": {
    "ExecuteTime": {
     "end_time": "2025-07-14T22:31:14.306096Z",
     "start_time": "2025-07-14T22:31:14.301924Z"
    }
   },
   "cell_type": "code",
   "source": [
    "proporcion_computo_c = 0.90\n",
    "\n",
    "z_computo_c = norm.ppf((1 + proporcion_computo_c) / 2)\n",
    "desviaciones_estandar_computo_c = z_computo_c\n",
    "\n",
    "print(desviaciones_estandar_computo_c)"
   ],
   "id": "472a9b038abdebed",
   "outputs": [
    {
     "name": "stdout",
     "output_type": "stream",
     "text": [
      "1.6448536269514722\n"
     ]
    }
   ],
   "execution_count": 57
  },
  {
   "metadata": {},
   "cell_type": "markdown",
   "source": "d) Se sospecha que la media ya cambió. Se detectó que el 2% de los equipos duran menos de 1 año, ¿cuál será el nuevo promedio de vida de los equipos?",
   "id": "b2d00a86a98a9f"
  },
  {
   "metadata": {
    "ExecuteTime": {
     "end_time": "2025-07-14T22:31:14.357782Z",
     "start_time": "2025-07-14T22:31:14.354761Z"
    }
   },
   "cell_type": "code",
   "source": [
    "proporcion_computo_d = 0.02\n",
    "\n",
    "z_computo_d = norm.ppf(proporcion_computo_d)\n",
    "nuevo_promedio_computo_d = 1 - z_computo_d * desviacion_estandar_computo\n",
    "\n",
    "print(nuevo_promedio_computo_d)"
   ],
   "id": "6ef43482790c6e16",
   "outputs": [
    {
     "name": "stdout",
     "output_type": "stream",
     "text": [
      "3.875248474884552\n"
     ]
    }
   ],
   "execution_count": 58
  }
 ],
 "metadata": {
  "kernelspec": {
   "display_name": "Python 3",
   "language": "python",
   "name": "python3"
  },
  "language_info": {
   "codemirror_mode": {
    "name": "ipython",
    "version": 2
   },
   "file_extension": ".py",
   "mimetype": "text/x-python",
   "name": "python",
   "nbconvert_exporter": "python",
   "pygments_lexer": "ipython2",
   "version": "2.7.6"
  }
 },
 "nbformat": 4,
 "nbformat_minor": 5
}
